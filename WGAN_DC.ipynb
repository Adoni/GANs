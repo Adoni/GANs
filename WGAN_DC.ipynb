{
 "cells": [
  {
   "cell_type": "code",
   "execution_count": 19,
   "metadata": {
    "collapsed": true
   },
   "outputs": [],
   "source": [
    "import torch\n",
    "import torch.nn as nn\n",
    "from torch.autograd import Variable\n",
    "import torchvision.datasets as dset\n",
    "import torchvision.transforms as transforms\n",
    "import torch.nn.functional as F\n",
    "import torch.optim as optim\n",
    "import torchvision.utils as vutils\n",
    "import sys\n",
    "from utils.show_image import imshow\n",
    "from torchvision import utils\n",
    "from models import DCGAN_D,DCGAN_G"
   ]
  },
  {
   "cell_type": "code",
   "execution_count": 20,
   "metadata": {
    "collapsed": true
   },
   "outputs": [],
   "source": [
    "z_size=128\n",
    "hidden_size=64\n",
    "img_size=32\n",
    "batch_size = 128\n",
    "image_chanel=1\n",
    "model_name='WGAN_DC_MNIST'"
   ]
  },
  {
   "cell_type": "code",
   "execution_count": 21,
   "metadata": {},
   "outputs": [],
   "source": [
    "root = './data/mnist/'\n",
    "download = True\n",
    "trans = transforms.Compose([\n",
    "    transforms.Scale(img_size),\n",
    "    transforms.ToTensor(),\n",
    "    transforms.Normalize((0.5, 0.5, 0.5), (0.5, 0.5, 0.5))\n",
    "])\n",
    "data_set = dset.MNIST(\n",
    "    root=root, train=True, transform=trans, download=download)\n",
    "kwargs = {}\n",
    "data_loader = torch.utils.data.DataLoader(\n",
    "    dataset=data_set, batch_size=batch_size, shuffle=True)"
   ]
  },
  {
   "cell_type": "code",
   "execution_count": 22,
   "metadata": {
    "collapsed": true
   },
   "outputs": [],
   "source": [
    "one = torch.FloatTensor([1])\n",
    "noise_holder=torch.FloatTensor(batch_size, z_size, 1, 1)\n",
    "input_holder = torch.FloatTensor(batch_size, 1, img_size, img_size)\n",
    "if torch.cuda.is_available():\n",
    "    one=one.cuda()\n",
    "    noise_holder=noise_holder.cuda()\n",
    "    input_holder=input_holder.cuda()\n",
    "mone = one * -1"
   ]
  },
  {
   "cell_type": "code",
   "execution_count": 23,
   "metadata": {
    "collapsed": true
   },
   "outputs": [],
   "source": [
    "def weights_init(m):\n",
    "    classname = m.__class__.__name__\n",
    "    if classname.find('Conv') != -1:\n",
    "        m.weight.data.normal_(0.0, 0.02)\n",
    "    elif classname.find('BatchNorm') != -1:\n",
    "        m.weight.data.normal_(1.0, 0.02)\n",
    "        m.bias.data.fill_(0)"
   ]
  },
  {
   "cell_type": "code",
   "execution_count": null,
   "metadata": {
    "scrolled": true
   },
   "outputs": [],
   "source": [
    "from tqdm import tqdm\n",
    "G = DCGAN_G(isize=img_size, nz=z_size, nc=image_chanel, ngf=hidden_size, ngpu=0)\n",
    "G.apply(weights_init)\n",
    "D = DCGAN_D(isize=img_size, nz=z_size, nc=image_chanel, ndf=hidden_size, ngpu=0)\n",
    "D.apply(weights_init)\n",
    "print(G)\n",
    "if torch.cuda.is_available():\n",
    "    G.cuda()\n",
    "    D.cuda()\n",
    "G_lr = D_lr = 5e-5\n",
    "optimizers = {\n",
    "    'D': torch.optim.RMSprop(D.parameters(), lr=D_lr),\n",
    "    'G': torch.optim.RMSprop(G.parameters(), lr=G_lr)\n",
    "}\n",
    "criterion = nn.BCELoss()\n",
    "for epoch in tqdm(range(10000)):\n",
    "    for p in D.parameters():\n",
    "        p.requires_grad = True\n",
    "    if epoch<25 or epoch%500==0:\n",
    "        iter_D=100\n",
    "    else:\n",
    "        iter_D=25\n",
    "    for _ in range(iter_D):\n",
    "        for p in D.parameters():\n",
    "            p.data.clamp_(-0.01, 0.01)\n",
    "        optimizers['D'].zero_grad()\n",
    "        data=next(iter(data_loader))[0]\n",
    "        if torch.cuda.is_available():\n",
    "            data=data.cuda()\n",
    "        input_holder.resize_as_(data).copy_(data)\n",
    "        output_real = D(Variable(data))\n",
    "        output_real.backward(one)\n",
    "        noise_holder.resize_(data.size()[0], z_size, 1, 1).normal_(0, 1)\n",
    "        noisev = Variable(noise_holder,volatile=True)\n",
    "        fake_data = Variable(G(noisev).data)\n",
    "        output_fake = D(fake_data)\n",
    "        output_fake.backward(mone)\n",
    "        optimizers['D'].step()\n",
    "\n",
    "    for p in D.parameters():\n",
    "        p.requires_grad = False\n",
    "    optimizers['G'].zero_grad()\n",
    "    noise_holder.resize_(data.size()[0], z_size, 1, 1).normal_(0, 1)\n",
    "    noisev = Variable(noise_holder)\n",
    "    fake_data = G(noisev)\n",
    "    output_fake1 = D(fake_data)\n",
    "    output_fake1.backward(one)\n",
    "    optimizers['G'].step()\n",
    "\n",
    "    if epoch % 100 == 0:\n",
    "        if torch.cuda.is_available():\n",
    "            dd = utils.make_grid(fake_data.cpu().data[:64])\n",
    "        else:\n",
    "            dd = utils.make_grid(fake_data.data[:64])\n",
    "        dd = dd.mul(0.5).add(0.5)\n",
    "        vutils.save_image(dd, './results/%s_%d.png'%(model_name,epoch))"
   ]
  }
 ],
 "metadata": {
  "kernelspec": {
   "display_name": "Python 3",
   "language": "python",
   "name": "python3"
  },
  "language_info": {
   "codemirror_mode": {
    "name": "ipython",
    "version": 3
   },
   "file_extension": ".py",
   "mimetype": "text/x-python",
   "name": "python",
   "nbconvert_exporter": "python",
   "pygments_lexer": "ipython3",
   "version": "3.6.2"
  }
 },
 "nbformat": 4,
 "nbformat_minor": 2
}
