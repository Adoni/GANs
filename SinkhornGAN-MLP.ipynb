{
 "cells": [
  {
   "cell_type": "code",
   "execution_count": 1,
   "metadata": {
    "collapsed": true
   },
   "outputs": [],
   "source": [
    "import torch\n",
    "import torch.nn as nn\n",
    "from torch.autograd import Variable\n",
    "import torchvision.datasets as dset\n",
    "import torchvision.transforms as transforms\n",
    "import torch.nn.functional as F\n",
    "import torch.optim as optim\n",
    "import torchvision.utils as vutils\n",
    "import sys\n",
    "from utils.show_image import imshow\n",
    "from torchvision import utils\n",
    "from models import Sinkhorn_DCGAN_D,DCGAN_G,MLP_G,MLP_D\n",
    "from utils.sinkhorn_loss import sinkhorn_loss\n",
    "import sys\n",
    "import pickle"
   ]
  },
  {
   "cell_type": "code",
   "execution_count": 2,
   "metadata": {},
   "outputs": [
    {
     "name": "stdout",
     "output_type": "stream",
     "text": [
      "Use cuda: False\n"
     ]
    }
   ],
   "source": [
    "z_size=2\n",
    "hidden_size=256\n",
    "batch_size = 64\n",
    "dataset_name=\"MNIST\"\n",
    "output_dimension=100\n",
    "niter=10\n",
    "use_cuda=torch.cuda.is_available()\n",
    "print('Use cuda: %r'%use_cuda)"
   ]
  },
  {
   "cell_type": "code",
   "execution_count": 3,
   "metadata": {
    "collapsed": true
   },
   "outputs": [],
   "source": [
    "if dataset_name == 'MNIST':\n",
    "    total_epoch=10000\n",
    "    img_size=32\n",
    "    image_chanel = 1\n",
    "    epsilon=1\n",
    "    model_name = 'Sinkhorn_MLP_MNIST'\n",
    "    root = './data/mnist/'\n",
    "    download = True\n",
    "    trans = transforms.Compose([\n",
    "        transforms.Scale(img_size),\n",
    "        transforms.ToTensor(),\n",
    "        transforms.Normalize((0.5, 0.5, 0.5), (0.5, 0.5, 0.5))\n",
    "    ])\n",
    "    data_set = dset.MNIST(\n",
    "        root=root, transform=trans, download=download)\n",
    "if dataset_name == \"LSUN\":\n",
    "    total_epoch=100000\n",
    "    img_size=64\n",
    "    image_chanel = 3\n",
    "    epsilon=10\n",
    "    model_name = 'Sinkhorn_MLP_LSUN'\n",
    "    root = './data/lsun/'\n",
    "    trans = transforms.Compose([\n",
    "        transforms.Scale(img_size),\n",
    "        transforms.CenterCrop(img_size),\n",
    "        transforms.ToTensor(),\n",
    "        transforms.Normalize((0.5, 0.5, 0.5), (0.5, 0.5, 0.5)),\n",
    "    ])\n",
    "    data_set = dset.LSUN(\n",
    "        db_path=root, classes=['bedroom_train'], transform=trans)\n",
    "if dataset_name == 'CIFAR':\n",
    "    total_epoch=10000\n",
    "    img_size=32\n",
    "    image_chanel = 1\n",
    "    model_name = 'Sinkhorn_MLP_CIFAR'\n",
    "    root = './data/cifar10/'\n",
    "    download = True\n",
    "    trans = transforms.Compose([\n",
    "        transforms.Scale(img_size),\n",
    "        transforms.ToTensor(),\n",
    "        transforms.Normalize((0.5, 0.5, 0.5), (0.5, 0.5, 0.5))\n",
    "    ])\n",
    "    data_set = dset.MNIST(\n",
    "        root=root, transform=trans, download=download)"
   ]
  },
  {
   "cell_type": "code",
   "execution_count": 4,
   "metadata": {
    "collapsed": true
   },
   "outputs": [],
   "source": [
    "data_loader = torch.utils.data.DataLoader(\n",
    "        dataset=data_set, batch_size=batch_size, shuffle=True)"
   ]
  },
  {
   "cell_type": "code",
   "execution_count": 5,
   "metadata": {
    "collapsed": true
   },
   "outputs": [],
   "source": [
    "one = torch.FloatTensor([1])\n",
    "noise_holder=torch.FloatTensor(batch_size, z_size, 1, 1)\n",
    "input_holder = torch.FloatTensor(batch_size, 1, img_size, img_size)\n",
    "mone = one * -1\n",
    "fixed_noise = torch.FloatTensor(batch_size, z_size, 1, 1).normal_(0, 1)\n",
    "if use_cuda:\n",
    "    one=one.cuda()\n",
    "    noise_holder=noise_holder.cuda()\n",
    "    input_holder=input_holder.cuda()\n",
    "    fixed_noise=fixed_noise.cuda()\n",
    "    mone=mone.cuda()"
   ]
  },
  {
   "cell_type": "code",
   "execution_count": 6,
   "metadata": {
    "collapsed": true
   },
   "outputs": [],
   "source": [
    "def weights_init(m):\n",
    "    classname = m.__class__.__name__\n",
    "    if classname.find('Conv') != -1:\n",
    "        m.weight.data.normal_(0.0, 0.02)\n",
    "    elif classname.find('BatchNorm') != -1:\n",
    "        m.weight.data.normal_(1.0, 0.02)\n",
    "        m.bias.data.fill_(0)"
   ]
  },
  {
   "cell_type": "code",
   "execution_count": 13,
   "metadata": {
    "scrolled": false
   },
   "outputs": [
    {
     "name": "stderr",
     "output_type": "stream",
     "text": [
      "\n",
      "  0%|          | 0/10000 [00:00<?, ?it/s]\u001b[A"
     ]
    },
    {
     "name": "stdout",
     "output_type": "stream",
     "text": [
      "MLP_G (\n",
      "  (main): Sequential (\n",
      "    (0): Linear (2 -> 256)\n",
      "    (1): ReLU (inplace)\n",
      "    (2): Linear (256 -> 256)\n",
      "    (3): ReLU (inplace)\n",
      "    (4): Linear (256 -> 256)\n",
      "    (5): ReLU (inplace)\n",
      "    (6): Linear (256 -> 1024)\n",
      "    (7): Tanh ()\n",
      "  )\n",
      ")\n",
      "MLP_D (\n",
      "  (main): Sequential (\n",
      "    (0): Linear (1024 -> 256)\n",
      "    (1): ReLU (inplace)\n",
      "    (2): Linear (256 -> 256)\n",
      "    (3): ReLU (inplace)\n",
      "    (4): Linear (256 -> 256)\n",
      "    (5): ReLU (inplace)\n",
      "    (6): Linear (256 -> 1)\n",
      "  )\n",
      ")\n"
     ]
    },
    {
     "name": "stderr",
     "output_type": "stream",
     "text": [
      "\n",
      "Exception in thread Thread-5:\n",
      "Traceback (most recent call last):\n",
      "  File \"/Users/sunxiaofei/anaconda3/lib/python3.6/threading.py\", line 916, in _bootstrap_inner\n",
      "    self.run()\n",
      "  File \"/Users/sunxiaofei/anaconda3/lib/python3.6/site-packages/tqdm/_tqdm.py\", line 144, in run\n",
      "    for instance in self.tqdm_cls._instances:\n",
      "  File \"/Users/sunxiaofei/anaconda3/lib/python3.6/_weakrefset.py\", line 60, in __iter__\n",
      "    for itemref in self.data:\n",
      "RuntimeError: Set changed size during iteration\n",
      "\n",
      "  1%|▏         | 130/10000 [02:15<2:52:05,  1.05s/it]\n"
     ]
    },
    {
     "ename": "KeyboardInterrupt",
     "evalue": "",
     "output_type": "error",
     "traceback": [
      "\u001b[0;31m---------------------------------------------------------------------------\u001b[0m",
      "\u001b[0;31mKeyboardInterrupt\u001b[0m                         Traceback (most recent call last)",
      "\u001b[0;32m<ipython-input-13-0d1d2553ef0e>\u001b[0m in \u001b[0;36m<module>\u001b[0;34m()\u001b[0m\n\u001b[1;32m     99\u001b[0m             \u001b[0mpickle\u001b[0m\u001b[0;34m.\u001b[0m\u001b[0mdump\u001b[0m\u001b[0;34m(\u001b[0m\u001b[0;34m[\u001b[0m\u001b[0merrs_fake\u001b[0m\u001b[0;34m,\u001b[0m\u001b[0merrs_real\u001b[0m\u001b[0;34m]\u001b[0m\u001b[0;34m,\u001b[0m \u001b[0mopen\u001b[0m\u001b[0;34m(\u001b[0m\u001b[0;34m'./results/%s_%0.2f_loss.pkl'\u001b[0m\u001b[0;34m%\u001b[0m\u001b[0;34m(\u001b[0m\u001b[0mmodel_name\u001b[0m\u001b[0;34m,\u001b[0m\u001b[0mepsilon\u001b[0m\u001b[0;34m)\u001b[0m\u001b[0;34m,\u001b[0m\u001b[0;34m'wb'\u001b[0m\u001b[0;34m)\u001b[0m\u001b[0;34m)\u001b[0m\u001b[0;34m\u001b[0m\u001b[0m\n\u001b[1;32m    100\u001b[0m \u001b[0;34m\u001b[0m\u001b[0m\n\u001b[0;32m--> 101\u001b[0;31m \u001b[0mtraining\u001b[0m\u001b[0;34m(\u001b[0m\u001b[0;34m)\u001b[0m\u001b[0;34m\u001b[0m\u001b[0m\n\u001b[0m",
      "\u001b[0;32m<ipython-input-13-0d1d2553ef0e>\u001b[0m in \u001b[0;36mtraining\u001b[0;34m()\u001b[0m\n\u001b[1;32m     83\u001b[0m         \u001b[0;32melse\u001b[0m\u001b[0;34m:\u001b[0m\u001b[0;34m\u001b[0m\u001b[0m\n\u001b[1;32m     84\u001b[0m             \u001b[0merrs_fake\u001b[0m\u001b[0;34m.\u001b[0m\u001b[0mappend\u001b[0m\u001b[0;34m(\u001b[0m\u001b[0mloss_fake\u001b[0m\u001b[0;34m.\u001b[0m\u001b[0mdata\u001b[0m\u001b[0;34m.\u001b[0m\u001b[0mnumpy\u001b[0m\u001b[0;34m(\u001b[0m\u001b[0;34m)\u001b[0m\u001b[0;34m[\u001b[0m\u001b[0;36m0\u001b[0m\u001b[0;34m]\u001b[0m\u001b[0;34m)\u001b[0m\u001b[0;34m\u001b[0m\u001b[0m\n\u001b[0;32m---> 85\u001b[0;31m         \u001b[0mloss_fake\u001b[0m\u001b[0;34m.\u001b[0m\u001b[0mbackward\u001b[0m\u001b[0;34m(\u001b[0m\u001b[0mone\u001b[0m\u001b[0;34m)\u001b[0m\u001b[0;34m\u001b[0m\u001b[0m\n\u001b[0m\u001b[1;32m     86\u001b[0m         \u001b[0moptimizers\u001b[0m\u001b[0;34m[\u001b[0m\u001b[0;34m'G'\u001b[0m\u001b[0;34m]\u001b[0m\u001b[0;34m.\u001b[0m\u001b[0mstep\u001b[0m\u001b[0;34m(\u001b[0m\u001b[0;34m)\u001b[0m\u001b[0;34m\u001b[0m\u001b[0m\n\u001b[1;32m     87\u001b[0m \u001b[0;34m\u001b[0m\u001b[0m\n",
      "\u001b[0;32m~/anaconda3/lib/python3.6/site-packages/torch/autograd/variable.py\u001b[0m in \u001b[0;36mbackward\u001b[0;34m(self, gradient, retain_graph, create_graph, retain_variables)\u001b[0m\n\u001b[1;32m    154\u001b[0m                 \u001b[0mVariable\u001b[0m\u001b[0;34m.\u001b[0m\u001b[0;34m\u001b[0m\u001b[0m\n\u001b[1;32m    155\u001b[0m         \"\"\"\n\u001b[0;32m--> 156\u001b[0;31m         \u001b[0mtorch\u001b[0m\u001b[0;34m.\u001b[0m\u001b[0mautograd\u001b[0m\u001b[0;34m.\u001b[0m\u001b[0mbackward\u001b[0m\u001b[0;34m(\u001b[0m\u001b[0mself\u001b[0m\u001b[0;34m,\u001b[0m \u001b[0mgradient\u001b[0m\u001b[0;34m,\u001b[0m \u001b[0mretain_graph\u001b[0m\u001b[0;34m,\u001b[0m \u001b[0mcreate_graph\u001b[0m\u001b[0;34m,\u001b[0m \u001b[0mretain_variables\u001b[0m\u001b[0;34m)\u001b[0m\u001b[0;34m\u001b[0m\u001b[0m\n\u001b[0m\u001b[1;32m    157\u001b[0m \u001b[0;34m\u001b[0m\u001b[0m\n\u001b[1;32m    158\u001b[0m     \u001b[0;32mdef\u001b[0m \u001b[0mregister_hook\u001b[0m\u001b[0;34m(\u001b[0m\u001b[0mself\u001b[0m\u001b[0;34m,\u001b[0m \u001b[0mhook\u001b[0m\u001b[0;34m)\u001b[0m\u001b[0;34m:\u001b[0m\u001b[0;34m\u001b[0m\u001b[0m\n",
      "\u001b[0;32m~/anaconda3/lib/python3.6/site-packages/torch/autograd/__init__.py\u001b[0m in \u001b[0;36mbackward\u001b[0;34m(variables, grad_variables, retain_graph, create_graph, retain_variables)\u001b[0m\n\u001b[1;32m     96\u001b[0m \u001b[0;34m\u001b[0m\u001b[0m\n\u001b[1;32m     97\u001b[0m     Variable._execution_engine.run_backward(\n\u001b[0;32m---> 98\u001b[0;31m         variables, grad_variables, retain_graph)\n\u001b[0m\u001b[1;32m     99\u001b[0m \u001b[0;34m\u001b[0m\u001b[0m\n\u001b[1;32m    100\u001b[0m \u001b[0;34m\u001b[0m\u001b[0m\n",
      "\u001b[0;31mKeyboardInterrupt\u001b[0m: "
     ]
    }
   ],
   "source": [
    "from tqdm import tqdm\n",
    "G = MLP_G(isize=img_size, nz=z_size, nc=image_chanel, ngf=hidden_size, ngpu=0)\n",
    "G.apply(weights_init)\n",
    "D = MLP_D(isize=img_size, nz=z_size, nc=image_chanel, ndf=hidden_size, ngpu=0)\n",
    "D.apply(weights_init)\n",
    "print(G)\n",
    "print(D)\n",
    "# if len(sys.argv)==3:\n",
    "#     G.load_state_dict(torch.load(sys.argv[1]))\n",
    "#     D.load_state_dict(torch.load(sys.argv[2]))\n",
    "if use_cuda:\n",
    "    G.cuda()\n",
    "    D.cuda()\n",
    "G_lr = D_lr = 5e-5\n",
    "optimizers = {\n",
    "    'D': torch.optim.RMSprop(D.parameters(), lr=D_lr),\n",
    "    'G': torch.optim.RMSprop(G.parameters(), lr=G_lr)\n",
    "}\n",
    "data_iter=iter(data_loader)\n",
    "errs_real=[]\n",
    "errs_fake=[]\n",
    "def training():\n",
    "    for epoch in tqdm(range(total_epoch)):\n",
    "#         for p in D.parameters():\n",
    "#             p.requires_grad = True\n",
    "#         if epoch<25 or epoch%500==0:\n",
    "#             iter_D=100\n",
    "#         else:\n",
    "#             iter_D=5\n",
    "#         tmp_err_real=[]\n",
    "#         for _ in range(iter_D):\n",
    "#             for p in D.parameters():\n",
    "#                 p.data.clamp_(-0.01, 0.01)\n",
    "#             optimizers['D'].zero_grad()\n",
    "#             try:\n",
    "#                 data=data_iter.next()[0]\n",
    "#             except:\n",
    "#                 data_iter=iter(data_loader)\n",
    "#                 data=data_iter.next()[0]\n",
    "#             if use_cuda:\n",
    "#                 data=data.cuda()\n",
    "#             input_holder.resize_as_(data).copy_(data)\n",
    "#             Y = D(Variable(data))\n",
    "#             noise_holder.resize_(data.size()[0], z_size, 1, 1).normal_(0, 1)\n",
    "#             noisev = Variable(noise_holder,volatile=True)\n",
    "#             fake_data = Variable(G(noisev).data)\n",
    "#             X = D(fake_data)\n",
    "#             XY=sinkhorn_loss(X,Y,epsilon,data.size()[0],niter,use_cuda)\n",
    "#             XX=sinkhorn_loss(X,X,epsilon,data.size()[0],niter,use_cuda)\n",
    "#             YY=sinkhorn_loss(Y,Y,epsilon,data.size()[0],niter,use_cuda)\n",
    "#             loss_real=2*XY-XX-YY\n",
    "#             if use_cuda:\n",
    "#                 tmp_err_real.append(loss_real.cpu().data.numpy()[0])\n",
    "#             else:\n",
    "#                 tmp_err_real.append(loss_real.data.numpy()[0])\n",
    "#             loss_real.backward(mone)\n",
    "#             optimizers['D'].step()\n",
    "        \n",
    "#         errs_real.append(tmp_err_real)\n",
    "#         print(errs_real)\n",
    "#         for p in D.parameters():\n",
    "#             p.requires_grad = False\n",
    "        optimizers['G'].zero_grad()\n",
    "        try:\n",
    "            data=data_iter.next()[0]\n",
    "        except:\n",
    "            data_iter=iter(data_loader)\n",
    "            data=data_iter.next()[0]\n",
    "        if use_cuda:\n",
    "            data=data.cuda()\n",
    "        input_holder.resize_as_(data).copy_(data)\n",
    "        Y = D(Variable(data))\n",
    "        noise_holder.resize_(data.size()[0], z_size, 1, 1).normal_(0, 1)\n",
    "        noisev = Variable(noise_holder)\n",
    "        fake_data = G(noisev)\n",
    "        X = D(fake_data)\n",
    "        XY=sinkhorn_loss(X,Y,epsilon,data.size()[0],niter,use_cuda)\n",
    "        XX=sinkhorn_loss(X,X,epsilon,data.size()[0],niter,use_cuda)\n",
    "        YY=sinkhorn_loss(Y,Y,epsilon,data.size()[0],niter,use_cuda)\n",
    "        loss_fake=2*XY-XX-YY\n",
    "        if use_cuda:\n",
    "            errs_fake.append(loss_fake.cpu().data.numpy()[0])\n",
    "        else:\n",
    "            errs_fake.append(loss_fake.data.numpy()[0])\n",
    "        loss_fake.backward(one)\n",
    "        optimizers['G'].step()\n",
    "\n",
    "        if epoch % 10 == 0:\n",
    "            noisev = Variable(fixed_noise,volatile=True)\n",
    "            fake_data = G(noisev)\n",
    "            if use_cuda:\n",
    "                dd = fake_data.cpu().data[:64]\n",
    "            else:\n",
    "                dd = fake_data.data[:64]\n",
    "            dd = dd.mul(0.5).add(0.5)\n",
    "            vutils.save_image(dd, './results/%s_%0.2f_%d.png'%(model_name,epsilon,epoch))\n",
    "            torch.save(G.state_dict(), './results/G_epoch_%0.2f_%d.pth'%(epsilon,epoch))\n",
    "            torch.save(D.state_dict(), './results/D_epoch_%0.2f_%d.pth'%(epsilon,epoch))\n",
    "            pickle.dump([errs_fake,errs_real], open('./results/%s_%0.2f_loss.pkl'%(model_name,epsilon),'wb'))\n",
    "\n",
    "training()"
   ]
  },
  {
   "cell_type": "code",
   "execution_count": null,
   "metadata": {
    "collapsed": true
   },
   "outputs": [],
   "source": [
    "from matplotlib import pyplot as plt\n",
    "import numpy"
   ]
  },
  {
   "cell_type": "code",
   "execution_count": 14,
   "metadata": {
    "collapsed": true
   },
   "outputs": [],
   "source": [
    "a,b=pickle.load(open('./results/Sinkhorn_MLP_MNIST_1.00_loss.pkl','rb'),encoding='latin1')"
   ]
  },
  {
   "cell_type": "code",
   "execution_count": 15,
   "metadata": {},
   "outputs": [],
   "source": [
    "bb=[]\n",
    "for i in b:\n",
    "    bb.append(numpy.mean(i))"
   ]
  },
  {
   "cell_type": "code",
   "execution_count": 16,
   "metadata": {},
   "outputs": [
    {
     "data": {
      "image/png": "[encoded data removed]",
      "text/plain": [
       "<matplotlib.figure.Figure at 0x11fd78128>"
      ]
     },
     "metadata": {},
     "output_type": "display_data"
    },
    {
     "data": {
      "image/png": "[encoded data removed]",
      "text/plain": [
       "<matplotlib.figure.Figure at 0x11b35e5c0>"
      ]
     },
     "metadata": {},
     "output_type": "display_data"
    }
   ],
   "source": [
    "plt.plot(a[:1000])\n",
    "plt.show()\n",
    "plt.plot(bb[:100000])\n",
    "plt.show()"
   ]
  },
  {
   "cell_type": "code",
   "execution_count": 38,
   "metadata": {
    "collapsed": true
   },
   "outputs": [],
   "source": [
    "bb=[]\n",
    "for i in b:\n",
    "    bb.append(numpy.mean(i))"
   ]
  }
 ],
 "metadata": {
  "kernelspec": {
   "display_name": "Python 3",
   "language": "python",
   "name": "python3"
  },
  "language_info": {
   "codemirror_mode": {
    "name": "ipython",
    "version": 3
   },
   "file_extension": ".py",
   "mimetype": "text/x-python",
   "name": "python",
   "nbconvert_exporter": "python",
   "pygments_lexer": "ipython3",
   "version": "3.6.2"
  }
 },
 "nbformat": 4,
 "nbformat_minor": 2
}
