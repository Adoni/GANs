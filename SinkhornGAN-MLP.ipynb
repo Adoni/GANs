{
 "cells": [
  {
   "cell_type": "code",
   "execution_count": 1,
   "metadata": {
    "collapsed": true
   },
   "outputs": [],
   "source": [
    "import torch\n",
    "import torch.nn as nn\n",
    "from torch.autograd import Variable\n",
    "import torchvision.datasets as dset\n",
    "import torchvision.transforms as transforms\n",
    "import torch.nn.functional as F\n",
    "import torch.optim as optim\n",
    "import torchvision.utils as vutils\n",
    "import sys\n",
    "from utils.show_image import imshow\n",
    "from torchvision import utils\n",
    "from models import Sinkhorn_DCGAN_D,DCGAN_G,MLP_G,MLP_D\n",
    "from utils.sinkhorn_loss import sinkhorn_loss\n",
    "import sys\n",
    "import pickle"
   ]
  },
  {
   "cell_type": "code",
   "execution_count": 2,
   "metadata": {},
   "outputs": [
    {
     "name": "stdout",
     "output_type": "stream",
     "text": [
      "Use cuda: False\n"
     ]
    }
   ],
   "source": [
    "z_size=2\n",
    "hidden_size=256\n",
    "batch_size = 64\n",
    "dataset_name=\"MNIST\"\n",
    "output_dimension=100\n",
    "niter=10\n",
    "use_cuda=torch.cuda.is_available()\n",
    "print('Use cuda: %r'%use_cuda)"
   ]
  },
  {
   "cell_type": "code",
   "execution_count": 3,
   "metadata": {
    "collapsed": true
   },
   "outputs": [],
   "source": [
    "if dataset_name == 'MNIST':\n",
    "    total_epoch=10000\n",
    "    img_size=32\n",
    "    image_chanel = 1\n",
    "    epsilon=1\n",
    "    model_name = 'Sinkhorn_MLP_MNIST'\n",
    "    root = './data/mnist/'\n",
    "    download = True\n",
    "    trans = transforms.Compose([\n",
    "        transforms.Scale(img_size),\n",
    "        transforms.ToTensor(),\n",
    "        transforms.Normalize((0.5, 0.5, 0.5), (0.5, 0.5, 0.5))\n",
    "    ])\n",
    "    data_set = dset.MNIST(\n",
    "        root=root, transform=trans, download=download)\n",
    "if dataset_name == \"LSUN\":\n",
    "    total_epoch=100000\n",
    "    img_size=64\n",
    "    image_chanel = 3\n",
    "    epsilon=10\n",
    "    model_name = 'Sinkhorn_MLP_LSUN'\n",
    "    root = './data/lsun/'\n",
    "    trans = transforms.Compose([\n",
    "        transforms.Scale(img_size),\n",
    "        transforms.CenterCrop(img_size),\n",
    "        transforms.ToTensor(),\n",
    "        transforms.Normalize((0.5, 0.5, 0.5), (0.5, 0.5, 0.5)),\n",
    "    ])\n",
    "    data_set = dset.LSUN(\n",
    "        db_path=root, classes=['bedroom_train'], transform=trans)\n",
    "if dataset_name == 'CIFAR':\n",
    "    total_epoch=10000\n",
    "    img_size=32\n",
    "    image_chanel = 1\n",
    "    model_name = 'Sinkhorn_MLP_CIFAR'\n",
    "    root = './data/cifar10/'\n",
    "    download = True\n",
    "    trans = transforms.Compose([\n",
    "        transforms.Scale(img_size),\n",
    "        transforms.ToTensor(),\n",
    "        transforms.Normalize((0.5, 0.5, 0.5), (0.5, 0.5, 0.5))\n",
    "    ])\n",
    "    data_set = dset.MNIST(\n",
    "        root=root, transform=trans, download=download)"
   ]
  },
  {
   "cell_type": "code",
   "execution_count": 4,
   "metadata": {
    "collapsed": true
   },
   "outputs": [],
   "source": [
    "data_loader = torch.utils.data.DataLoader(\n",
    "        dataset=data_set, batch_size=batch_size, shuffle=True)"
   ]
  },
  {
   "cell_type": "code",
   "execution_count": 5,
   "metadata": {
    "collapsed": true
   },
   "outputs": [],
   "source": [
    "one = torch.FloatTensor([1])\n",
    "noise_holder=torch.FloatTensor(batch_size, z_size, 1, 1)\n",
    "input_holder = torch.FloatTensor(batch_size, 1, img_size, img_size)\n",
    "mone = one * -1\n",
    "fixed_noise = torch.FloatTensor(batch_size, z_size, 1, 1).normal_(0, 1)\n",
    "if use_cuda:\n",
    "    one=one.cuda()\n",
    "    noise_holder=noise_holder.cuda()\n",
    "    input_holder=input_holder.cuda()\n",
    "    fixed_noise=fixed_noise.cuda()\n",
    "    mone=mone.cuda()"
   ]
  },
  {
   "cell_type": "code",
   "execution_count": 6,
   "metadata": {
    "collapsed": true
   },
   "outputs": [],
   "source": [
    "def weights_init(m):\n",
    "    classname = m.__class__.__name__\n",
    "    if classname.find('Conv') != -1:\n",
    "        m.weight.data.normal_(0.0, 0.02)\n",
    "    elif classname.find('BatchNorm') != -1:\n",
    "        m.weight.data.normal_(1.0, 0.02)\n",
    "        m.bias.data.fill_(0)"
   ]
  },
  {
   "cell_type": "code",
   "execution_count": null,
   "metadata": {
    "scrolled": false
   },
   "outputs": [
    {
     "name": "stderr",
     "output_type": "stream",
     "text": [
      "\r",
      "  0%|          | 0/10000 [00:00<?, ?it/s]"
     ]
    },
    {
     "name": "stdout",
     "output_type": "stream",
     "text": [
      "MLP_G (\n",
      "  (main): Sequential (\n",
      "    (0): Linear (2 -> 256)\n",
      "    (1): ReLU (inplace)\n",
      "    (2): Linear (256 -> 256)\n",
      "    (3): ReLU (inplace)\n",
      "    (4): Linear (256 -> 256)\n",
      "    (5): ReLU (inplace)\n",
      "    (6): Linear (256 -> 1024)\n",
      "    (7): Tanh ()\n",
      "  )\n",
      ")\n",
      "MLP_D (\n",
      "  (main): Sequential (\n",
      "    (0): Linear (1024 -> 256)\n",
      "    (1): ReLU (inplace)\n",
      "    (2): Linear (256 -> 256)\n",
      "    (3): ReLU (inplace)\n",
      "    (4): Linear (256 -> 256)\n",
      "    (5): ReLU (inplace)\n",
      "    (6): Linear (256 -> 1)\n",
      "  )\n",
      ")\n"
     ]
    },
    {
     "name": "stderr",
     "output_type": "stream",
     "text": [
      "  1%|▏         | 142/10000 [01:58<2:17:26,  1.20it/s]"
     ]
    }
   ],
   "source": [
    "from tqdm import tqdm\n",
    "G = MLP_G(isize=img_size, nz=z_size, nc=image_chanel, ngf=hidden_size, ngpu=0)\n",
    "G.apply(weights_init)\n",
    "D = MLP_D(isize=img_size, nz=z_size, nc=image_chanel, ndf=hidden_size, ngpu=0)\n",
    "D.apply(weights_init)\n",
    "print(G)\n",
    "print(D)\n",
    "# if len(sys.argv)==3:\n",
    "#     G.load_state_dict(torch.load(sys.argv[1]))\n",
    "#     D.load_state_dict(torch.load(sys.argv[2]))\n",
    "if use_cuda:\n",
    "    G.cuda()\n",
    "    D.cuda()\n",
    "G_lr = D_lr = 5e-3\n",
    "optimizers = {\n",
    "    'D': torch.optim.RMSprop(D.parameters(), lr=D_lr),\n",
    "    'G': torch.optim.RMSprop(G.parameters(), lr=G_lr)\n",
    "}\n",
    "data_iter=iter(data_loader)\n",
    "errs_real=[]\n",
    "errs_fake=[]\n",
    "def training():\n",
    "    for epoch in tqdm(range(total_epoch)):\n",
    "#         for p in D.parameters():\n",
    "#             p.requires_grad = True\n",
    "#         if epoch<25 or epoch%500==0:\n",
    "#             iter_D=100\n",
    "#         else:\n",
    "#             iter_D=5\n",
    "#         tmp_err_real=[]\n",
    "#         for _ in range(iter_D):\n",
    "#             for p in D.parameters():\n",
    "#                 p.data.clamp_(-0.01, 0.01)\n",
    "#             optimizers['D'].zero_grad()\n",
    "#             try:\n",
    "#                 data=data_iter.next()[0]\n",
    "#             except:\n",
    "#                 data_iter=iter(data_loader)\n",
    "#                 data=data_iter.next()[0]\n",
    "#             if use_cuda:\n",
    "#                 data=data.cuda()\n",
    "#             input_holder.resize_as_(data).copy_(data)\n",
    "#             Y = D(Variable(data))\n",
    "#             noise_holder.resize_(data.size()[0], z_size, 1, 1).normal_(0, 1)\n",
    "#             noisev = Variable(noise_holder,volatile=True)\n",
    "#             fake_data = Variable(G(noisev).data)\n",
    "#             X = D(fake_data)\n",
    "#             XY=sinkhorn_loss(X,Y,epsilon,data.size()[0],niter,use_cuda)\n",
    "#             XX=sinkhorn_loss(X,X,epsilon,data.size()[0],niter,use_cuda)\n",
    "#             YY=sinkhorn_loss(Y,Y,epsilon,data.size()[0],niter,use_cuda)\n",
    "#             loss_real=2*XY-XX-YY\n",
    "#             if use_cuda:\n",
    "#                 tmp_err_real.append(loss_real.cpu().data.numpy()[0])\n",
    "#             else:\n",
    "#                 tmp_err_real.append(loss_real.data.numpy()[0])\n",
    "#             loss_real.backward(mone)\n",
    "#             optimizers['D'].step()\n",
    "        \n",
    "#         errs_real.append(tmp_err_real)\n",
    "#         print(errs_real)\n",
    "#         for p in D.parameters():\n",
    "#             p.requires_grad = False\n",
    "        optimizers['G'].zero_grad()\n",
    "        try:\n",
    "            data=data_iter.next()[0]\n",
    "        except:\n",
    "            data_iter=iter(data_loader)\n",
    "            data=data_iter.next()[0]\n",
    "        if use_cuda:\n",
    "            data=data.cuda()\n",
    "        input_holder.resize_as_(data).copy_(data)\n",
    "        Y = D(Variable(data))\n",
    "        noise_holder.resize_(data.size()[0], z_size, 1, 1).normal_(0, 1)\n",
    "        noisev = Variable(noise_holder)\n",
    "        fake_data = G(noisev)\n",
    "        X = D(fake_data)\n",
    "        XY=sinkhorn_loss(X,Y,epsilon,data.size()[0],niter,use_cuda)\n",
    "        XX=sinkhorn_loss(X,X,epsilon,data.size()[0],niter,use_cuda)\n",
    "        YY=sinkhorn_loss(Y,Y,epsilon,data.size()[0],niter,use_cuda)\n",
    "        loss_fake=2*XY-XX-YY\n",
    "        if use_cuda:\n",
    "            errs_fake.append(loss_fake.cpu().data.numpy()[0])\n",
    "        else:\n",
    "            errs_fake.append(loss_fake.data.numpy()[0])\n",
    "        loss_fake.backward(one)\n",
    "        optimizers['G'].step()\n",
    "\n",
    "        if epoch % 10 == 0:\n",
    "            noisev = Variable(fixed_noise,volatile=True)\n",
    "            fake_data = G(noisev)\n",
    "            if use_cuda:\n",
    "                dd = fake_data.cpu().data[:64]\n",
    "            else:\n",
    "                dd = fake_data.data[:64]\n",
    "            dd = dd.mul(0.5).add(0.5)\n",
    "            vutils.save_image(dd, './results/%s_%0.2f_%d.png'%(model_name,epsilon,epoch))\n",
    "            torch.save(G.state_dict(), './results/G_epoch_%0.2f_%d.pth'%(epsilon,epoch))\n",
    "            torch.save(D.state_dict(), './results/D_epoch_%0.2f_%d.pth'%(epsilon,epoch))\n",
    "            pickle.dump([errs_fake,errs_real], open('./results/%s_%0.2f_loss.pkl'%(model_name,epsilon),'wb'))\n",
    "\n",
    "training()"
   ]
  },
  {
   "cell_type": "code",
   "execution_count": 27,
   "metadata": {
    "collapsed": true
   },
   "outputs": [],
   "source": [
    "from matplotlib import pyplot as plt\n",
    "import numpy"
   ]
  },
  {
   "cell_type": "code",
   "execution_count": 28,
   "metadata": {
    "collapsed": true
   },
   "outputs": [],
   "source": [
    "a,b=pickle.load(open('./results/Sinkhorn_MLP_MNIST_0.10_loss.pkl','rb'),encoding='latin1')"
   ]
  },
  {
   "cell_type": "code",
   "execution_count": 29,
   "metadata": {},
   "outputs": [
    {
     "name": "stderr",
     "output_type": "stream",
     "text": [
      "/Users/sunxiaofei/anaconda3/lib/python3.6/site-packages/numpy/core/fromnumeric.py:2909: RuntimeWarning: Mean of empty slice.\n",
      "  out=out, **kwargs)\n",
      "/Users/sunxiaofei/anaconda3/lib/python3.6/site-packages/numpy/core/_methods.py:80: RuntimeWarning: invalid value encountered in double_scalars\n",
      "  ret = ret.dtype.type(ret / rcount)\n"
     ]
    }
   ],
   "source": [
    "bb=[]\n",
    "for i in b:\n",
    "    bb.append(numpy.mean(i))"
   ]
  },
  {
   "cell_type": "code",
   "execution_count": 30,
   "metadata": {},
   "outputs": [
    {
     "data": {
      "image/png": "[encoded data removed]",
      "text/plain": [
       "<matplotlib.figure.Figure at 0x11f049588>"
      ]
     },
     "metadata": {},
     "output_type": "display_data"
    },
    {
     "data": {
      "image/png": "[encoded data removed]",
      "text/plain": [
       "<matplotlib.figure.Figure at 0x113bea828>"
      ]
     },
     "metadata": {},
     "output_type": "display_data"
    }
   ],
   "source": [
    "plt.plot(a[:1000])\n",
    "plt.show()\n",
    "plt.plot(bb[:100000])\n",
    "plt.show()"
   ]
  },
  {
   "cell_type": "code",
   "execution_count": 38,
   "metadata": {
    "collapsed": true
   },
   "outputs": [],
   "source": [
    "bb=[]\n",
    "for i in b:\n",
    "    bb.append(numpy.mean(i))"
   ]
  }
 ],
 "metadata": {
  "kernelspec": {
   "display_name": "Python 3",
   "language": "python",
   "name": "python3"
  },
  "language_info": {
   "codemirror_mode": {
    "name": "ipython",
    "version": 3
   },
   "file_extension": ".py",
   "mimetype": "text/x-python",
   "name": "python",
   "nbconvert_exporter": "python",
   "pygments_lexer": "ipython3",
   "version": "3.6.2"
  }
 },
 "nbformat": 4,
 "nbformat_minor": 2
}
