{
 "cells": [
  {
   "cell_type": "code",
   "execution_count": 1,
   "metadata": {
    "collapsed": true
   },
   "outputs": [],
   "source": [
    "import torch\n",
    "import torch.nn as nn\n",
    "from torch.autograd import Variable\n",
    "import torchvision.datasets as dset\n",
    "import torchvision.transforms as transforms\n",
    "import torch.nn.functional as F\n",
    "import torch.optim as optim\n",
    "import torchvision.utils as vutils\n",
    "import sys\n",
    "from utils.show_image import imshow\n",
    "from torchvision import utils\n",
    "from models import Sinkhorn_DCGAN_D,DCGAN_G\n",
    "from models import Sinkhorn_MLP_D, MLP_G\n",
    "from utils.sinkhorn_loss import sinkhorn_loss\n",
    "import sys\n",
    "import pickle\n",
    "import os"
   ]
  },
  {
   "cell_type": "code",
   "execution_count": 2,
   "metadata": {},
   "outputs": [
    {
     "name": "stdout",
     "output_type": "stream",
     "text": [
      "Use cuda: False\n"
     ]
    }
   ],
   "source": [
    "z_size=100\n",
    "hidden_size=64\n",
    "batch_size = 64\n",
    "dataset_name=\"MNIST\"\n",
    "output_dimension=100\n",
    "niter=100\n",
    "use_cuda=torch.cuda.is_available()\n",
    "model_name='DC'\n",
    "model_name='MLP'\n",
    "print('Use cuda: %r'%use_cuda)"
   ]
  },
  {
   "cell_type": "code",
   "execution_count": 3,
   "metadata": {},
   "outputs": [],
   "source": [
    "if dataset_name == 'MNIST':\n",
    "    total_epoch=50000\n",
    "    img_size=32\n",
    "    image_chanel = 1\n",
    "    epsilon=0.1\n",
    "    root = './data/mnist/'\n",
    "    download = True\n",
    "    trans = transforms.Compose([\n",
    "        transforms.Scale(img_size),\n",
    "        transforms.ToTensor(),\n",
    "        transforms.Normalize((0.5, 0.5, 0.5), (0.5, 0.5, 0.5))\n",
    "    ])\n",
    "    data_set = dset.MNIST(\n",
    "        root=root, transform=trans, download=download)\n",
    "if dataset_name == \"LSUN\":\n",
    "    total_epoch=100000\n",
    "    img_size=64\n",
    "    image_chanel = 3\n",
    "    epsilon=10\n",
    "    root = './data/lsun/'\n",
    "    trans = transforms.Compose([\n",
    "        transforms.Scale(img_size),\n",
    "        transforms.CenterCrop(img_size),\n",
    "        transforms.ToTensor(),\n",
    "        transforms.Normalize((0.5, 0.5, 0.5), (0.5, 0.5, 0.5)),\n",
    "    ])\n",
    "    data_set = dset.LSUN(\n",
    "        db_path=root, classes=['bedroom_train'], transform=trans)\n",
    "if dataset_name == 'CIFAR':\n",
    "    total_epoch=10000\n",
    "    img_size=32\n",
    "    image_chanel = 1\n",
    "    root = './data/cifar10/'\n",
    "    download = True\n",
    "    trans = transforms.Compose([\n",
    "        transforms.Scale(img_size),\n",
    "        transforms.ToTensor(),\n",
    "        transforms.Normalize((0.5, 0.5, 0.5), (0.5, 0.5, 0.5))\n",
    "    ])\n",
    "    data_set = dset.MNIST(\n",
    "        root=root, transform=trans, download=download)"
   ]
  },
  {
   "cell_type": "code",
   "execution_count": 4,
   "metadata": {
    "collapsed": true
   },
   "outputs": [],
   "source": [
    "data_loader = torch.utils.data.DataLoader(\n",
    "        dataset=data_set, batch_size=batch_size, shuffle=True)"
   ]
  },
  {
   "cell_type": "code",
   "execution_count": 5,
   "metadata": {
    "collapsed": true
   },
   "outputs": [],
   "source": [
    "one = torch.FloatTensor([1])\n",
    "noise_holder=torch.FloatTensor(batch_size, z_size, 1, 1)\n",
    "input_holder = torch.FloatTensor(batch_size, 1, img_size, img_size)\n",
    "mone = one * -1\n",
    "fixed_noise = torch.FloatTensor(batch_size, z_size, 1, 1).normal_(0, 1)\n",
    "if use_cuda:\n",
    "    one=one.cuda()\n",
    "    noise_holder=noise_holder.cuda()\n",
    "    input_holder=input_holder.cuda()\n",
    "    fixed_noise=fixed_noise.cuda()\n",
    "    mone=mone.cuda()"
   ]
  },
  {
   "cell_type": "code",
   "execution_count": 6,
   "metadata": {
    "collapsed": true
   },
   "outputs": [],
   "source": [
    "def weights_init(m):\n",
    "    classname = m.__class__.__name__\n",
    "    if classname.find('Conv') != -1:\n",
    "        m.weight.data.normal_(0.0, 0.02)\n",
    "    elif classname.find('BatchNorm') != -1:\n",
    "        m.weight.data.normal_(1.0, 0.02)\n",
    "        m.bias.data.fill_(0)"
   ]
  },
  {
   "cell_type": "code",
   "execution_count": 10,
   "metadata": {
    "scrolled": false
   },
   "outputs": [
    {
     "name": "stderr",
     "output_type": "stream",
     "text": [
      "\r",
      "  0%|          | 0/50000 [00:00<?, ?it/s]"
     ]
    },
    {
     "name": "stdout",
     "output_type": "stream",
     "text": [
      "MLP_G (\n",
      "  (main): Sequential (\n",
      "    (0): Linear (100 -> 64)\n",
      "    (1): ReLU (inplace)\n",
      "    (2): Linear (64 -> 64)\n",
      "    (3): ReLU (inplace)\n",
      "    (4): Linear (64 -> 64)\n",
      "    (5): ReLU (inplace)\n",
      "    (6): Linear (64 -> 1024)\n",
      "    (7): Tanh ()\n",
      "  )\n",
      ")\n",
      "Sinkhorn_MLP_D (\n",
      "  (main): Sequential (\n",
      "    (0): Linear (1024 -> 64)\n",
      "  )\n",
      ")\n"
     ]
    },
    {
     "name": "stderr",
     "output_type": "stream",
     "text": [
      "\n"
     ]
    },
    {
     "ename": "KeyboardInterrupt",
     "evalue": "",
     "output_type": "error",
     "traceback": [
      "\u001b[0;31m---------------------------------------------------------------------------\u001b[0m",
      "\u001b[0;31mKeyboardInterrupt\u001b[0m                         Traceback (most recent call last)",
      "\u001b[0;32m<ipython-input-10-f54b216393b1>\u001b[0m in \u001b[0;36m<module>\u001b[0;34m()\u001b[0m\n\u001b[1;32m    104\u001b[0m             \u001b[0mpickle\u001b[0m\u001b[0;34m.\u001b[0m\u001b[0mdump\u001b[0m\u001b[0;34m(\u001b[0m\u001b[0;34m[\u001b[0m\u001b[0merrs_fake\u001b[0m\u001b[0;34m,\u001b[0m\u001b[0merrs_real\u001b[0m\u001b[0;34m]\u001b[0m\u001b[0;34m,\u001b[0m \u001b[0mopen\u001b[0m\u001b[0;34m(\u001b[0m\u001b[0;34m'%s/loss.pkl'\u001b[0m\u001b[0;34m%\u001b[0m\u001b[0;34m(\u001b[0m\u001b[0mdirectory\u001b[0m\u001b[0;34m)\u001b[0m\u001b[0;34m,\u001b[0m\u001b[0;34m'wb'\u001b[0m\u001b[0;34m)\u001b[0m\u001b[0;34m)\u001b[0m\u001b[0;34m\u001b[0m\u001b[0m\n\u001b[1;32m    105\u001b[0m \u001b[0;34m\u001b[0m\u001b[0m\n\u001b[0;32m--> 106\u001b[0;31m \u001b[0mtraining\u001b[0m\u001b[0;34m(\u001b[0m\u001b[0;34m)\u001b[0m\u001b[0;34m\u001b[0m\u001b[0m\n\u001b[0m",
      "\u001b[0;32m<ipython-input-10-f54b216393b1>\u001b[0m in \u001b[0;36mtraining\u001b[0;34m()\u001b[0m\n\u001b[1;32m     83\u001b[0m         \u001b[0mX\u001b[0m \u001b[0;34m=\u001b[0m \u001b[0mD\u001b[0m\u001b[0;34m(\u001b[0m\u001b[0mfake_data\u001b[0m\u001b[0;34m)\u001b[0m\u001b[0;34m\u001b[0m\u001b[0m\n\u001b[1;32m     84\u001b[0m         \u001b[0mXY\u001b[0m\u001b[0;34m=\u001b[0m\u001b[0msinkhorn_loss\u001b[0m\u001b[0;34m(\u001b[0m\u001b[0mX\u001b[0m\u001b[0;34m,\u001b[0m\u001b[0mY\u001b[0m\u001b[0;34m,\u001b[0m\u001b[0mepsilon\u001b[0m\u001b[0;34m,\u001b[0m\u001b[0mdata\u001b[0m\u001b[0;34m.\u001b[0m\u001b[0msize\u001b[0m\u001b[0;34m(\u001b[0m\u001b[0;34m)\u001b[0m\u001b[0;34m[\u001b[0m\u001b[0;36m0\u001b[0m\u001b[0;34m]\u001b[0m\u001b[0;34m,\u001b[0m\u001b[0mniter\u001b[0m\u001b[0;34m,\u001b[0m\u001b[0muse_cuda\u001b[0m\u001b[0;34m)\u001b[0m\u001b[0;34m\u001b[0m\u001b[0m\n\u001b[0;32m---> 85\u001b[0;31m         \u001b[0mXX\u001b[0m\u001b[0;34m=\u001b[0m\u001b[0msinkhorn_loss\u001b[0m\u001b[0;34m(\u001b[0m\u001b[0mX\u001b[0m\u001b[0;34m,\u001b[0m\u001b[0mX\u001b[0m\u001b[0;34m,\u001b[0m\u001b[0mepsilon\u001b[0m\u001b[0;34m,\u001b[0m\u001b[0mdata\u001b[0m\u001b[0;34m.\u001b[0m\u001b[0msize\u001b[0m\u001b[0;34m(\u001b[0m\u001b[0;34m)\u001b[0m\u001b[0;34m[\u001b[0m\u001b[0;36m0\u001b[0m\u001b[0;34m]\u001b[0m\u001b[0;34m,\u001b[0m\u001b[0mniter\u001b[0m\u001b[0;34m,\u001b[0m\u001b[0muse_cuda\u001b[0m\u001b[0;34m)\u001b[0m\u001b[0;34m\u001b[0m\u001b[0m\n\u001b[0m\u001b[1;32m     86\u001b[0m         \u001b[0mYY\u001b[0m\u001b[0;34m=\u001b[0m\u001b[0msinkhorn_loss\u001b[0m\u001b[0;34m(\u001b[0m\u001b[0mY\u001b[0m\u001b[0;34m,\u001b[0m\u001b[0mY\u001b[0m\u001b[0;34m,\u001b[0m\u001b[0mepsilon\u001b[0m\u001b[0;34m,\u001b[0m\u001b[0mdata\u001b[0m\u001b[0;34m.\u001b[0m\u001b[0msize\u001b[0m\u001b[0;34m(\u001b[0m\u001b[0;34m)\u001b[0m\u001b[0;34m[\u001b[0m\u001b[0;36m0\u001b[0m\u001b[0;34m]\u001b[0m\u001b[0;34m,\u001b[0m\u001b[0mniter\u001b[0m\u001b[0;34m,\u001b[0m\u001b[0muse_cuda\u001b[0m\u001b[0;34m)\u001b[0m\u001b[0;34m\u001b[0m\u001b[0m\n\u001b[1;32m     87\u001b[0m         \u001b[0mloss_fake\u001b[0m\u001b[0;34m=\u001b[0m\u001b[0;36m2\u001b[0m\u001b[0;34m*\u001b[0m\u001b[0mXY\u001b[0m\u001b[0;34m-\u001b[0m\u001b[0mXX\u001b[0m\u001b[0;34m-\u001b[0m\u001b[0mYY\u001b[0m\u001b[0;34m\u001b[0m\u001b[0m\n",
      "\u001b[0;32m~/workspace/GANs/utils/sinkhorn_loss.py\u001b[0m in \u001b[0;36msinkhorn_loss\u001b[0;34m(x, y, epsilon, n, niter, use_cuda)\u001b[0m\n\u001b[1;32m     62\u001b[0m             \u001b[0;32mbreak\u001b[0m\u001b[0;34m\u001b[0m\u001b[0m\n\u001b[1;32m     63\u001b[0m     \u001b[0mU\u001b[0m\u001b[0;34m,\u001b[0m \u001b[0mV\u001b[0m \u001b[0;34m=\u001b[0m \u001b[0mu\u001b[0m\u001b[0;34m,\u001b[0m \u001b[0mv\u001b[0m\u001b[0;34m\u001b[0m\u001b[0m\n\u001b[0;32m---> 64\u001b[0;31m     \u001b[0mpi\u001b[0m \u001b[0;34m=\u001b[0m \u001b[0mtorch\u001b[0m\u001b[0;34m.\u001b[0m\u001b[0mexp\u001b[0m\u001b[0;34m(\u001b[0m\u001b[0mM\u001b[0m\u001b[0;34m(\u001b[0m\u001b[0mU\u001b[0m\u001b[0;34m,\u001b[0m \u001b[0mV\u001b[0m\u001b[0;34m)\u001b[0m\u001b[0;34m)\u001b[0m  \u001b[0;31m# Transport plan pi = diag(a)*K*diag(b)\u001b[0m\u001b[0;34m\u001b[0m\u001b[0m\n\u001b[0m\u001b[1;32m     65\u001b[0m     \u001b[0mcost\u001b[0m \u001b[0;34m=\u001b[0m \u001b[0mtorch\u001b[0m\u001b[0;34m.\u001b[0m\u001b[0msum\u001b[0m\u001b[0;34m(\u001b[0m\u001b[0mpi\u001b[0m \u001b[0;34m*\u001b[0m \u001b[0mC\u001b[0m\u001b[0;34m)\u001b[0m  \u001b[0;31m# Sinkhorn cost\u001b[0m\u001b[0;34m\u001b[0m\u001b[0m\n\u001b[1;32m     66\u001b[0m \u001b[0;34m\u001b[0m\u001b[0m\n",
      "\u001b[0;32m~/workspace/GANs/utils/sinkhorn_loss.py\u001b[0m in \u001b[0;36mM\u001b[0;34m(u, v)\u001b[0m\n\u001b[1;32m     38\u001b[0m         \u001b[0;34m\"Modified cost for logarithmic updates\"\u001b[0m\u001b[0;34m\u001b[0m\u001b[0m\n\u001b[1;32m     39\u001b[0m         \u001b[0;34m\"$M_{ij} = (-c_{ij} + u_i + v_j) / \\epsilon$\"\u001b[0m\u001b[0;34m\u001b[0m\u001b[0m\n\u001b[0;32m---> 40\u001b[0;31m         \u001b[0;32mreturn\u001b[0m \u001b[0;34m(\u001b[0m\u001b[0;34m-\u001b[0m\u001b[0mC\u001b[0m \u001b[0;34m+\u001b[0m \u001b[0mu\u001b[0m\u001b[0;34m.\u001b[0m\u001b[0munsqueeze\u001b[0m\u001b[0;34m(\u001b[0m\u001b[0;36m1\u001b[0m\u001b[0;34m)\u001b[0m \u001b[0;34m+\u001b[0m \u001b[0mv\u001b[0m\u001b[0;34m.\u001b[0m\u001b[0munsqueeze\u001b[0m\u001b[0;34m(\u001b[0m\u001b[0;36m0\u001b[0m\u001b[0;34m)\u001b[0m\u001b[0;34m)\u001b[0m \u001b[0;34m/\u001b[0m \u001b[0mepsilon\u001b[0m\u001b[0;34m\u001b[0m\u001b[0m\n\u001b[0m\u001b[1;32m     41\u001b[0m \u001b[0;34m\u001b[0m\u001b[0m\n\u001b[1;32m     42\u001b[0m     \u001b[0;32mdef\u001b[0m \u001b[0mlse\u001b[0m\u001b[0;34m(\u001b[0m\u001b[0mA\u001b[0m\u001b[0;34m)\u001b[0m\u001b[0;34m:\u001b[0m\u001b[0;34m\u001b[0m\u001b[0m\n",
      "\u001b[0;32m~/anaconda3/lib/python3.6/site-packages/torch/autograd/variable.py\u001b[0m in \u001b[0;36munsqueeze\u001b[0;34m(self, dim)\u001b[0m\n\u001b[1;32m    754\u001b[0m \u001b[0;34m\u001b[0m\u001b[0m\n\u001b[1;32m    755\u001b[0m     \u001b[0;32mdef\u001b[0m \u001b[0munsqueeze\u001b[0m\u001b[0;34m(\u001b[0m\u001b[0mself\u001b[0m\u001b[0;34m,\u001b[0m \u001b[0mdim\u001b[0m\u001b[0;34m)\u001b[0m\u001b[0;34m:\u001b[0m\u001b[0;34m\u001b[0m\u001b[0m\n\u001b[0;32m--> 756\u001b[0;31m         \u001b[0;32mreturn\u001b[0m \u001b[0mUnsqueeze\u001b[0m\u001b[0;34m.\u001b[0m\u001b[0mapply\u001b[0m\u001b[0;34m(\u001b[0m\u001b[0mself\u001b[0m\u001b[0;34m,\u001b[0m \u001b[0mdim\u001b[0m\u001b[0;34m)\u001b[0m\u001b[0;34m\u001b[0m\u001b[0m\n\u001b[0m\u001b[1;32m    757\u001b[0m \u001b[0;34m\u001b[0m\u001b[0m\n\u001b[1;32m    758\u001b[0m     \u001b[0;32mdef\u001b[0m \u001b[0mpermute\u001b[0m\u001b[0;34m(\u001b[0m\u001b[0mself\u001b[0m\u001b[0;34m,\u001b[0m \u001b[0;34m*\u001b[0m\u001b[0mpermutation\u001b[0m\u001b[0;34m)\u001b[0m\u001b[0;34m:\u001b[0m\u001b[0;34m\u001b[0m\u001b[0m\n",
      "\u001b[0;32m~/anaconda3/lib/python3.6/site-packages/torch/autograd/_functions/tensor.py\u001b[0m in \u001b[0;36mforward\u001b[0;34m(ctx, input, dim)\u001b[0m\n\u001b[1;32m    394\u001b[0m         \u001b[0mctx\u001b[0m\u001b[0;34m.\u001b[0m\u001b[0mdim\u001b[0m \u001b[0;34m=\u001b[0m \u001b[0mdim\u001b[0m\u001b[0;34m\u001b[0m\u001b[0m\n\u001b[1;32m    395\u001b[0m         \u001b[0mresult\u001b[0m \u001b[0;34m=\u001b[0m \u001b[0minput\u001b[0m\u001b[0;34m.\u001b[0m\u001b[0munsqueeze\u001b[0m\u001b[0;34m(\u001b[0m\u001b[0mdim\u001b[0m\u001b[0;34m)\u001b[0m\u001b[0;34m\u001b[0m\u001b[0m\n\u001b[0;32m--> 396\u001b[0;31m         \u001b[0mctx\u001b[0m\u001b[0;34m.\u001b[0m\u001b[0mmark_shared_storage\u001b[0m\u001b[0;34m(\u001b[0m\u001b[0;34m(\u001b[0m\u001b[0minput\u001b[0m\u001b[0;34m,\u001b[0m \u001b[0mresult\u001b[0m\u001b[0;34m)\u001b[0m\u001b[0;34m)\u001b[0m\u001b[0;34m\u001b[0m\u001b[0m\n\u001b[0m\u001b[1;32m    397\u001b[0m         \u001b[0;32mreturn\u001b[0m \u001b[0mresult\u001b[0m\u001b[0;34m\u001b[0m\u001b[0m\n\u001b[1;32m    398\u001b[0m \u001b[0;34m\u001b[0m\u001b[0m\n",
      "\u001b[0;31mKeyboardInterrupt\u001b[0m: "
     ]
    }
   ],
   "source": [
    "from tqdm import tqdm\n",
    "if model_name=='DC':\n",
    "    G = DCGAN_G(isize=img_size, nz=z_size, nc=image_chanel, ngf=hidden_size, ngpu=0)\n",
    "    G.apply(weights_init)\n",
    "    D = Sinkhorn_DCGAN_D(isize=img_size, nz=z_size, nc=image_chanel, ndf=hidden_size, ngpu=0, output_dimension=output_dimension)\n",
    "    D.apply(weights_init)\n",
    "if model_name=='MLP':\n",
    "    G = MLP_G(isize=img_size, nz=z_size, nc=image_chanel, ngf=hidden_size, ngpu=0)\n",
    "    D = Sinkhorn_MLP_D(isize=img_size, nz=z_size, nc=image_chanel, ndf=hidden_size, ngpu=0)\n",
    "print(G)\n",
    "print(D)\n",
    "if use_cuda:\n",
    "    G.cuda()\n",
    "    D.cuda()\n",
    "G_lr = D_lr = 5e-5\n",
    "optimizers = {\n",
    "    'D': torch.optim.RMSprop(D.parameters(), lr=D_lr),\n",
    "    'G': torch.optim.RMSprop(G.parameters(), lr=G_lr)\n",
    "}\n",
    "data_iter=iter(data_loader)\n",
    "errs_real=[]\n",
    "errs_fake=[]\n",
    "\n",
    "directory='./results/Sinkhorn_%s/%s/%0.2f'%(model_name,dataset_name,epsilon)\n",
    "if not os.path.exists(directory):\n",
    "    os.makedirs(directory)\n",
    "def training():\n",
    "    for epoch in tqdm(range(total_epoch)):\n",
    "        for p in D.parameters():\n",
    "            p.requires_grad = True\n",
    "        if model_name=='MLP':\n",
    "            iter_D=0\n",
    "        else:\n",
    "            if epoch<25 or epoch%500==0:\n",
    "                iter_D=100\n",
    "            else:\n",
    "                iter_D=5\n",
    "        tmp_err_real=[]\n",
    "        for _ in range(iter_D):\n",
    "            for p in D.parameters():\n",
    "                p.data.clamp_(-0.01, 0.01)\n",
    "            optimizers['D'].zero_grad()\n",
    "            try:\n",
    "                data=data_iter.next()[0]\n",
    "            except:\n",
    "                data_iter=iter(data_loader)\n",
    "                data=data_iter.next()[0]\n",
    "            if use_cuda:\n",
    "                data=data.cuda()\n",
    "            input_holder.resize_as_(data).copy_(data)\n",
    "            Y = D(Variable(data))\n",
    "            noise_holder.resize_(data.size()[0], z_size, 1, 1).normal_(0, 1)\n",
    "            noisev = Variable(noise_holder,volatile=True)\n",
    "            fake_data = Variable(G(noisev).data)\n",
    "            X = D(fake_data)\n",
    "            XY=sinkhorn_loss(X,Y,epsilon,data.size()[0],niter,use_cuda)\n",
    "            XX=sinkhorn_loss(X,X,epsilon,data.size()[0],niter,use_cuda)\n",
    "            YY=sinkhorn_loss(Y,Y,epsilon,data.size()[0],niter,use_cuda)\n",
    "            loss_real=2*XY-XX-YY\n",
    "            if use_cuda:\n",
    "                tmp_err_real.append(loss_real.cpu().data.numpy()[0])\n",
    "            else:\n",
    "                tmp_err_real.append(loss_real.data.numpy()[0])\n",
    "            loss_real.backward(mone)\n",
    "            optimizers['D'].step()\n",
    "        \n",
    "        errs_real.append(tmp_err_real)\n",
    "        for p in D.parameters():\n",
    "            p.requires_grad = False\n",
    "        optimizers['G'].zero_grad()\n",
    "        try:\n",
    "            data=data_iter.next()[0]\n",
    "        except:\n",
    "            data_iter=iter(data_loader)\n",
    "            data=data_iter.next()[0]\n",
    "        if use_cuda:\n",
    "            data=data.cuda()\n",
    "        input_holder.resize_as_(data).copy_(data)\n",
    "        Y = D(Variable(data))\n",
    "        noise_holder.resize_(data.size()[0], z_size, 1, 1).normal_(0, 1)\n",
    "        noisev = Variable(noise_holder)\n",
    "        fake_data = G(noisev)\n",
    "        X = D(fake_data)\n",
    "        XY=sinkhorn_loss(X,Y,epsilon,data.size()[0],niter,use_cuda)\n",
    "        XX=sinkhorn_loss(X,X,epsilon,data.size()[0],niter,use_cuda)\n",
    "        YY=sinkhorn_loss(Y,Y,epsilon,data.size()[0],niter,use_cuda)\n",
    "        loss_fake=2*XY-XX-YY\n",
    "        if use_cuda:\n",
    "            errs_fake.append(loss_fake.cpu().data.numpy()[0])\n",
    "        else:\n",
    "            errs_fake.append(loss_fake.data.numpy()[0])\n",
    "        loss_fake.backward(one)\n",
    "        optimizers['G'].step()\n",
    "\n",
    "        if epoch % 1000 == 0:\n",
    "            noisev = Variable(fixed_noise,volatile=True)\n",
    "            fake_data = G(noisev)\n",
    "            if use_cuda:\n",
    "                dd = utils.make_grid(fake_data.cpu().data[:64])\n",
    "            else:\n",
    "                dd = utils.make_grid(fake_data.data[:64])\n",
    "            dd = dd.mul(0.5).add(0.5)\n",
    "            vutils.save_image(dd, '%s/%d.png'%(directory,epoch))\n",
    "            pickle.dump([errs_fake,errs_real], open('%s/loss.pkl'%(directory),'wb'))\n",
    "\n",
    "training()"
   ]
  }
 ],
 "metadata": {
  "kernelspec": {
   "display_name": "Python 3",
   "language": "python",
   "name": "python3"
  },
  "language_info": {
   "codemirror_mode": {
    "name": "ipython",
    "version": 3
   },
   "file_extension": ".py",
   "mimetype": "text/x-python",
   "name": "python",
   "nbconvert_exporter": "python",
   "pygments_lexer": "ipython3",
   "version": "3.6.2"
  }
 },
 "nbformat": 4,
 "nbformat_minor": 2
}
