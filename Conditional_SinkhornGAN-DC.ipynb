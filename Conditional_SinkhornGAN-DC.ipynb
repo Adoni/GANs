{
 "cells": [
  {
   "cell_type": "code",
   "execution_count": 1,
   "metadata": {
    "collapsed": true
   },
   "outputs": [],
   "source": [
    "import torch\n",
    "import torch.nn as nn\n",
    "from torch.autograd import Variable\n",
    "import torchvision.datasets as dset\n",
    "import torchvision.transforms as transforms\n",
    "import torch.nn.functional as F\n",
    "import torch.optim as optim\n",
    "import torchvision.utils as vutils\n",
    "import sys\n",
    "import matplotlib\n",
    "import numpy\n",
    "import functools\n",
    "import os\n",
    "if 'DISPLAY' not in os.environ:\n",
    "    matplotlib.use('Agg')\n",
    "    show_image=False\n",
    "else:\n",
    "    show_image=True\n",
    "from matplotlib import pyplot as plt\n",
    "from torchvision import utils\n",
    "from skimage import io, transform\n",
    "from torchvision.transforms import ToPILImage\n",
    "from torch.utils.data import Dataset, DataLoader\n",
    "from torch.nn import init"
   ]
  },
  {
   "cell_type": "code",
   "execution_count": 2,
   "metadata": {
    "collapsed": true
   },
   "outputs": [],
   "source": [
    "def sinkhorn_loss(x, y, epsilon, n, niter):\n",
    "    \"\"\"\n",
    "\tGiven two emprical measures with n points each with locations x and y\n",
    "\toutputs an approximation of the OT cost with regularization parameter epsilon\n",
    "\tniter is the max. number of steps in sinkhorn loop\n",
    "\t\"\"\"\n",
    "    # The Sinkhorn algorithm takes as input three variables :\n",
    "    C = cost_matrix(x, y)  # Wasserstein cost function\n",
    "\n",
    "    # both marginals are fixed with equal weights\n",
    "    if use_cuda:\n",
    "        mu = Variable(\n",
    "            1. / n * torch.cuda.FloatTensor(n).fill_(1), requires_grad=False)\n",
    "        nu = Variable(\n",
    "            1. / n * torch.cuda.FloatTensor(n).fill_(1), requires_grad=False)\n",
    "    else:\n",
    "        mu = Variable(\n",
    "            1. / n * torch.FloatTensor(n).fill_(1), requires_grad=False)\n",
    "        nu = Variable(\n",
    "            1. / n * torch.FloatTensor(n).fill_(1), requires_grad=False)\n",
    "\n",
    "    # Parameters of the Sinkhorn algorithm.\n",
    "    rho = 1  #(.5) **2          # unbalanced transport\n",
    "    tau = -.8  # nesterov-like acceleration\n",
    "    lam = rho / (rho + epsilon)  # Update exponent\n",
    "    thresh = 10**(-1)  # stopping criterion\n",
    "\n",
    "    # Elementary operations .....................................................................\n",
    "    def ave(u, u1):\n",
    "        \"Barycenter subroutine, used by kinetic acceleration through extrapolation.\"\n",
    "        return tau * u + (1 - tau) * u1\n",
    "\n",
    "    def M(u, v):\n",
    "        \"Modified cost for logarithmic updates\"\n",
    "        \"$M_{ij} = (-c_{ij} + u_i + v_j) / \\epsilon$\"\n",
    "        return (-C + u.unsqueeze(1) + v.unsqueeze(0)) / epsilon\n",
    "\n",
    "    def lse(A):\n",
    "        \"log-sum-exp\"\n",
    "        return torch.log(torch.exp(A).sum(1, keepdim=True) +\n",
    "                         1e-6)  # add 10^-6 to prevent NaN\n",
    "\n",
    "    # Actual Sinkhorn loop ......................................................................\n",
    "    u, v, err = 0. * mu, 0. * nu, 0.\n",
    "    actual_nits = 0  # to check if algorithm terminates because of threshold or max iterations reached\n",
    "\n",
    "    for i in range(niter):\n",
    "        u1 = u  # useful to check the update\n",
    "        u = epsilon * (torch.log(mu) - lse(M(u, v)).squeeze()) + u\n",
    "        v = epsilon * (torch.log(nu) - lse(M(u, v).t()).squeeze()) + v\n",
    "        # accelerated unbalanced iterations\n",
    "        #u = ave( u, lam * ( epsilon * ( torch.log(mu.unsqueeze(1)) - lse(M(u,v))   ) + u ) )\n",
    "        #v = ave( v, lam * ( epsilon * ( torch.log(nu.unsqueeze(1)) - lse(M(u,v).t()) ) + v ) )\n",
    "        err = (u - u1).abs().sum()\n",
    "\n",
    "        actual_nits += 1\n",
    "        if (err < thresh).data.cpu().numpy():\n",
    "            break\n",
    "    U, V = u, v\n",
    "    pi = torch.exp(M(U, V))  # Transport plan pi = diag(a)*K*diag(b)\n",
    "    cost = torch.sum(pi * C)  # Sinkhorn cost\n",
    "    print(pi)\n",
    "\n",
    "    return cost\n",
    "\n",
    "\n",
    "def cost_matrix(x, y, p=2):\n",
    "    \"Returns the matrix of $|x_i-y_j|^p$.\"\n",
    "    x_col = x.unsqueeze(1)\n",
    "    y_lin = y.unsqueeze(0)\n",
    "    c = torch.sum((torch.abs(x_col - y_lin))**p, 2)\n",
    "    return c"
   ]
  },
  {
   "cell_type": "code",
   "execution_count": 3,
   "metadata": {
    "collapsed": true
   },
   "outputs": [],
   "source": [
    "class Edges2ShoesDataset(Dataset):\n",
    "    \"\"\"Edge to shoes dataset\"\"\"\n",
    "\n",
    "    def __init__(self, root_dir, transform):\n",
    "        \"\"\"\n",
    "        Args:\n",
    "            csv_file (string): Path to the csv file with annotations.\n",
    "            root_dir (string): Directory with all the images.\n",
    "            transform (callable, optional): Optional transform to be applied\n",
    "                on a sample.\n",
    "        \"\"\"\n",
    "        self.root_dir = root_dir\n",
    "        self.transform = transform\n",
    "\n",
    "    def __len__(self):\n",
    "        return 49825\n",
    "\n",
    "    def __getitem__(self, idx):\n",
    "        img_name = os.path.join(self.root_dir, 'train/%d_AB.jpg'%(idx+1))\n",
    "        image = io.imread(img_name)\n",
    "        sample=self.transform(image)\n",
    "        A=sample[:,:,:256]\n",
    "        B=sample[:,:,256:]\n",
    "        return [A,B]"
   ]
  },
  {
   "cell_type": "code",
   "execution_count": 4,
   "metadata": {
    "collapsed": true
   },
   "outputs": [],
   "source": [
    "def imshow(inp, file_name, save=False, title=None):\n",
    "    \"\"\"Imshow for Tensor.\"\"\"\n",
    "    fig = plt.figure(figsize=(10, 20))\n",
    "    inp = transforms.ToPILImage()(inp)\n",
    "    plt.imshow(inp,cmap='gray')\n",
    "    plt.savefig(file_name)\n",
    "    if show_image:\n",
    "        plt.show()\n",
    "    else:\n",
    "        plt.gcf().clear()"
   ]
  },
  {
   "cell_type": "code",
   "execution_count": 5,
   "metadata": {
    "collapsed": true
   },
   "outputs": [],
   "source": [
    "batch_size = 10\n",
    "z_size=2\n",
    "hidden_size=64\n",
    "img_size=256\n",
    "niter=100\n",
    "epsilon=0.1\n",
    "G_lr = D_lr = 5e-3\n",
    "use_cuda=torch.cuda.is_available()"
   ]
  },
  {
   "cell_type": "code",
   "execution_count": 6,
   "metadata": {
    "collapsed": true
   },
   "outputs": [],
   "source": [
    "root = '/Users/sunxiaofei/Downloads/edges2shoes/'\n",
    "download = True\n",
    "trans = transforms.Compose([\n",
    "    transforms.ToTensor(),\n",
    "    transforms.Normalize((0.5, 0.5, 0.5), (0.5, 0.5, 0.5))\n",
    "])\n",
    "data_set = Edges2ShoesDataset(root_dir=root, transform=trans)\n",
    "kwargs = {}\n",
    "D_loader = torch.utils.data.DataLoader(\n",
    "    dataset=data_set, batch_size=batch_size, shuffle=True)\n",
    "G_loader = torch.utils.data.DataLoader(\n",
    "    dataset=data_set, batch_size=batch_size, shuffle=True)"
   ]
  },
  {
   "cell_type": "code",
   "execution_count": 7,
   "metadata": {
    "collapsed": true
   },
   "outputs": [],
   "source": [
    "class UnetGenerator(nn.Module):\n",
    "    def __init__(self,\n",
    "                 input_nc,\n",
    "                 output_nc,\n",
    "                 num_downs,\n",
    "                 ngf=64,\n",
    "                 norm_layer=nn.BatchNorm2d,\n",
    "                 use_dropout=False,\n",
    "                 gpu_ids=[]):\n",
    "        super(UnetGenerator, self).__init__()\n",
    "        self.gpu_ids = gpu_ids\n",
    "\n",
    "        # construct unet structure\n",
    "        unet_block = UnetSkipConnectionBlock(\n",
    "            ngf * 8,\n",
    "            ngf * 8,\n",
    "            input_nc=None,\n",
    "            submodule=None,\n",
    "            norm_layer=norm_layer,\n",
    "            innermost=True)\n",
    "        for i in range(num_downs - 5):\n",
    "            unet_block = UnetSkipConnectionBlock(\n",
    "                ngf * 8,\n",
    "                ngf * 8,\n",
    "                input_nc=None,\n",
    "                submodule=unet_block,\n",
    "                norm_layer=norm_layer,\n",
    "                use_dropout=use_dropout)\n",
    "        unet_block = UnetSkipConnectionBlock(\n",
    "            ngf * 4,\n",
    "            ngf * 8,\n",
    "            input_nc=None,\n",
    "            submodule=unet_block,\n",
    "            norm_layer=norm_layer)\n",
    "        unet_block = UnetSkipConnectionBlock(\n",
    "            ngf * 2,\n",
    "            ngf * 4,\n",
    "            input_nc=None,\n",
    "            submodule=unet_block,\n",
    "            norm_layer=norm_layer)\n",
    "        unet_block = UnetSkipConnectionBlock(\n",
    "            ngf,\n",
    "            ngf * 2,\n",
    "            input_nc=None,\n",
    "            submodule=unet_block,\n",
    "            norm_layer=norm_layer)\n",
    "        unet_block = UnetSkipConnectionBlock(\n",
    "            output_nc,\n",
    "            ngf,\n",
    "            input_nc=input_nc,\n",
    "            submodule=unet_block,\n",
    "            outermost=True,\n",
    "            norm_layer=norm_layer)\n",
    "\n",
    "        self.model = unet_block\n",
    "\n",
    "    def forward(self, input):\n",
    "        if self.gpu_ids and isinstance(input.data, torch.cuda.FloatTensor):\n",
    "            return nn.parallel.data_parallel(self.model, input, self.gpu_ids)\n",
    "        else:\n",
    "            return self.model(input)\n",
    "\n",
    "\n",
    "# Defines the submodule with skip connection.\n",
    "# X -------------------identity---------------------- X\n",
    "#   |-- downsampling -- |submodule| -- upsampling --|\n",
    "class UnetSkipConnectionBlock(nn.Module):\n",
    "    def __init__(self,\n",
    "                 outer_nc,\n",
    "                 inner_nc,\n",
    "                 input_nc=None,\n",
    "                 submodule=None,\n",
    "                 outermost=False,\n",
    "                 innermost=False,\n",
    "                 norm_layer=nn.BatchNorm2d,\n",
    "                 use_dropout=False):\n",
    "        super(UnetSkipConnectionBlock, self).__init__()\n",
    "        self.outermost = outermost\n",
    "        if type(norm_layer) == functools.partial:\n",
    "            use_bias = norm_layer.func == nn.InstanceNorm2d\n",
    "        else:\n",
    "            use_bias = norm_layer == nn.InstanceNorm2d\n",
    "        if input_nc is None:\n",
    "            input_nc = outer_nc\n",
    "        downconv = nn.Conv2d(\n",
    "            input_nc,\n",
    "            inner_nc,\n",
    "            kernel_size=4,\n",
    "            stride=2,\n",
    "            padding=1,\n",
    "            bias=use_bias)\n",
    "        downrelu = nn.LeakyReLU(0.2, True)\n",
    "        downnorm = norm_layer(inner_nc)\n",
    "        uprelu = nn.ReLU(True)\n",
    "        upnorm = norm_layer(outer_nc)\n",
    "\n",
    "        if outermost:\n",
    "            upconv = nn.ConvTranspose2d(\n",
    "                inner_nc * 2, outer_nc, kernel_size=4, stride=2, padding=1)\n",
    "            down = [downconv]\n",
    "            up = [uprelu, upconv, nn.Tanh()]\n",
    "            model = down + [submodule] + up\n",
    "        elif innermost:\n",
    "            upconv = nn.ConvTranspose2d(\n",
    "                inner_nc,\n",
    "                outer_nc,\n",
    "                kernel_size=4,\n",
    "                stride=2,\n",
    "                padding=1,\n",
    "                bias=use_bias)\n",
    "            down = [downrelu, downconv]\n",
    "            up = [uprelu, upconv, upnorm]\n",
    "            model = down + up\n",
    "        else:\n",
    "            upconv = nn.ConvTranspose2d(\n",
    "                inner_nc * 2,\n",
    "                outer_nc,\n",
    "                kernel_size=4,\n",
    "                stride=2,\n",
    "                padding=1,\n",
    "                bias=use_bias)\n",
    "            down = [downrelu, downconv, downnorm]\n",
    "            up = [uprelu, upconv, upnorm]\n",
    "\n",
    "            if use_dropout:\n",
    "                model = down + [submodule] + up + [nn.Dropout(0.5)]\n",
    "            else:\n",
    "                model = down + [submodule] + up\n",
    "\n",
    "        self.model = nn.Sequential(*model)\n",
    "\n",
    "    def forward(self, x):\n",
    "        if self.outermost:\n",
    "            return self.model(x)\n",
    "        else:\n",
    "            return torch.cat([x, self.model(x)], 1)"
   ]
  },
  {
   "cell_type": "code",
   "execution_count": 9,
   "metadata": {
    "collapsed": true
   },
   "outputs": [],
   "source": [
    "class NLayerDiscriminator(nn.Module):\n",
    "    def __init__(self, input_nc, ndf=64, n_layers=3, norm_layer=nn.BatchNorm2d, use_sigmoid=False, gpu_ids=[]):\n",
    "        super(NLayerDiscriminator, self).__init__()\n",
    "        self.gpu_ids = gpu_ids\n",
    "        if type(norm_layer) == functools.partial:\n",
    "            use_bias = norm_layer.func == nn.InstanceNorm2d\n",
    "        else:\n",
    "            use_bias = norm_layer == nn.InstanceNorm2d\n",
    "\n",
    "        kw = 4\n",
    "        padw = 1\n",
    "        sequence = [\n",
    "            nn.Conv2d(input_nc, ndf, kernel_size=kw, stride=2, padding=padw),\n",
    "            nn.LeakyReLU(0.2, True)\n",
    "        ]\n",
    "\n",
    "        nf_mult = 1\n",
    "        nf_mult_prev = 1\n",
    "        for n in range(1, n_layers):\n",
    "            nf_mult_prev = nf_mult\n",
    "            nf_mult = min(2**n, 8)\n",
    "            sequence += [\n",
    "                nn.Conv2d(ndf * nf_mult_prev, ndf * nf_mult,\n",
    "                          kernel_size=kw, stride=2, padding=padw, bias=use_bias),\n",
    "                norm_layer(ndf * nf_mult),\n",
    "                nn.LeakyReLU(0.2, True)\n",
    "            ]\n",
    "\n",
    "        nf_mult_prev = nf_mult\n",
    "        nf_mult = min(2**n_layers, 8)\n",
    "        sequence += [\n",
    "            nn.Conv2d(ndf * nf_mult_prev, ndf * nf_mult,\n",
    "                      kernel_size=kw, stride=1, padding=padw, bias=use_bias),\n",
    "            norm_layer(ndf * nf_mult),\n",
    "            nn.LeakyReLU(0.2, True)\n",
    "        ]\n",
    "\n",
    "        sequence += [nn.Conv2d(ndf * nf_mult, 100, kernel_size=kw, stride=1, padding=padw)]\n",
    "\n",
    "        if use_sigmoid:\n",
    "            sequence += [nn.Sigmoid()]\n",
    "\n",
    "        self.model = nn.Sequential(*sequence)\n",
    "\n",
    "    def forward(self, input):\n",
    "        if len(self.gpu_ids) and isinstance(input.data, torch.cuda.FloatTensor):\n",
    "            return nn.parallel.data_parallel(self.model, input, self.gpu_ids)\n",
    "        else:\n",
    "            return self.model(input)"
   ]
  },
  {
   "cell_type": "code",
   "execution_count": 10,
   "metadata": {
    "collapsed": true
   },
   "outputs": [],
   "source": [
    "class Discriminator(nn.Module):\n",
    "    def __init__(self):\n",
    "        super(Discriminator, self).__init__()\n",
    "        self.main=nn.Sequential(\n",
    "            nn.Linear(100,100)\n",
    "        )\n",
    "\n",
    "    def forward(self, x):\n",
    "        x = x.view(x.size(0), 3*img_size * img_size)\n",
    "        return x"
   ]
  },
  {
   "cell_type": "code",
   "execution_count": 11,
   "metadata": {
    "collapsed": true
   },
   "outputs": [],
   "source": [
    "one = torch.FloatTensor([1])\n",
    "noise_holder=torch.FloatTensor(batch_size, z_size, 1, 1)\n",
    "input_holder = torch.FloatTensor(batch_size, 1, img_size, img_size)\n",
    "if use_cuda:\n",
    "    one=one.cuda()\n",
    "    noise_holder=noise_holder.cuda()\n",
    "    input_holder=input_holder.cuda()\n",
    "mone = one * -1"
   ]
  },
  {
   "cell_type": "code",
   "execution_count": 12,
   "metadata": {
    "collapsed": true
   },
   "outputs": [],
   "source": [
    "def weights_init(m):\n",
    "    classname = m.__class__.__name__\n",
    "    if classname.find('Conv') != -1:\n",
    "        m.weight.data.normal_(0.0, 0.02)\n",
    "    elif classname.find('BatchNorm') != -1:\n",
    "        m.weight.data.normal_(1.0, 0.02)\n",
    "        m.bias.data.fill_(0)\n",
    "def weights_init_normal(m):\n",
    "    classname = m.__class__.__name__\n",
    "    # print(classname)\n",
    "    if classname.find('Conv') != -1:\n",
    "        init.uniform(m.weight.data, 0.0, 0.02)\n",
    "    elif classname.find('Linear') != -1:\n",
    "        init.uniform(m.weight.data, 0.0, 0.02)\n",
    "    elif classname.find('BatchNorm2d') != -1:\n",
    "        init.uniform(m.weight.data, 1.0, 0.02)\n",
    "        init.constant(m.bias.data, 0.0)\n",
    "\n",
    "\n",
    "def init_weights(net, init_type='normal'):\n",
    "    print('initialization method [%s]' % init_type)\n",
    "    if init_type == 'normal':\n",
    "        net.apply(weights_init_normal)\n",
    "    elif init_type == 'xavier':\n",
    "        net.apply(weights_init_xavier)\n",
    "    elif init_type == 'kaiming':\n",
    "        net.apply(weights_init_kaiming)\n",
    "    elif init_type == 'orthogonal':\n",
    "        net.apply(weights_init_orthogonal)\n",
    "    else:\n",
    "        raise NotImplementedError('initialization method [%s] is not implemented' % init_type)\n"
   ]
  },
  {
   "cell_type": "code",
   "execution_count": 13,
   "metadata": {
    "collapsed": true
   },
   "outputs": [],
   "source": [
    "data=iter(G_loader).next()"
   ]
  },
  {
   "cell_type": "code",
   "execution_count": 14,
   "metadata": {},
   "outputs": [
    {
     "data": {
      "image/png": "[encoded data removed]",
      "text/plain": [
       "<matplotlib.figure.Figure at 0x105b3d1d0>"
      ]
     },
     "metadata": {},
     "output_type": "display_data"
    },
    {
     "data": {
      "image/png": "[encoded data removed]",
      "text/plain": [
       "<matplotlib.figure.Figure at 0x10318dbe0>"
      ]
     },
     "metadata": {},
     "output_type": "display_data"
    },
    {
     "data": {
      "image/png": "[encoded data removed]",
      "text/plain": [
       "<matplotlib.figure.Figure at 0x1c139c4e80>"
      ]
     },
     "metadata": {},
     "output_type": "display_data"
    }
   ],
   "source": [
    "d1=data[0][0].mul(0.5).add(0.5)\n",
    "plt.imshow(ToPILImage()(d1))\n",
    "plt.show()\n",
    "d2=data[1][0].mul(0.5).add(0.5)\n",
    "plt.imshow(ToPILImage()(d2))\n",
    "plt.show()\n",
    "d3=torch.cat((data[0],data[1]),3)[0].mul(0.5).add(0.5)\n",
    "plt.imshow(ToPILImage()(d3))\n",
    "plt.show()"
   ]
  },
  {
   "cell_type": "code",
   "execution_count": 15,
   "metadata": {
    "collapsed": true
   },
   "outputs": [],
   "source": [
    "class Generator(nn.Module):\n",
    "    def __init__(self):\n",
    "        super(Generator,self).__init__()\n",
    "        self.model = nn.Sequential(\n",
    "            nn.Conv2d(3,hidden_size,4,2,1),\n",
    "            nn.BatchNorm2d(hidden_size),\n",
    "            nn.ReLU(True),\n",
    "            nn.Conv2d(hidden_size,hidden_size*2,4,2,1),\n",
    "            nn.BatchNorm2d(hidden_size*2),\n",
    "            nn.ReLU(True),\n",
    "            nn.Conv2d(hidden_size*2,hidden_size*4,4,2,1),\n",
    "            nn.BatchNorm2d(hidden_size*4),\n",
    "            nn.ReLU(True),\n",
    "            \n",
    "            nn.ConvTranspose2d(hidden_size*4,hidden_size*2,4,2,1),\n",
    "            nn.BatchNorm2d(hidden_size*2),\n",
    "            nn.ReLU(True),\n",
    "            nn.ConvTranspose2d(hidden_size*2,hidden_size,4,2,1),\n",
    "            nn.BatchNorm2d(hidden_size),\n",
    "            nn.ReLU(True),\n",
    "            nn.ConvTranspose2d(hidden_size,3,4,2,1),\n",
    "            nn.BatchNorm2d(3),\n",
    "        )\n",
    "    def forward(self, x):\n",
    "        x = x.view(x.size()[0], 3, img_size, img_size)\n",
    "        print(x.size())\n",
    "        out = self.model(x)\n",
    "        print(out.size())\n",
    "        out = out.view(x.size()[0], 3, img_size,img_size)\n",
    "        return out"
   ]
  },
  {
   "cell_type": "code",
   "execution_count": 27,
   "metadata": {
    "collapsed": true
   },
   "outputs": [],
   "source": [
    "class Discriminator(nn.Module):\n",
    "    def __init__(self):\n",
    "        super(Discriminator,self).__init__()\n",
    "        self.model = nn.Sequential(\n",
    "            # 1*3\n",
    "            nn.Conv2d(6,hidden_size,4,2,1),\n",
    "            nn.BatchNorm2d(hidden_size),\n",
    "            nn.LeakyReLU(0.2, True),\n",
    "            nn.Conv2d(hidden_size,hidden_size*2,4,2,1),\n",
    "            nn.BatchNorm2d(hidden_size*2),\n",
    "            nn.LeakyReLU(0.2, True),\n",
    "            nn.Conv2d(hidden_size*2,hidden_size*4,4,2,1),\n",
    "            nn.BatchNorm2d(hidden_size*4),\n",
    "            nn.LeakyReLU(0.2, True),\n",
    "            nn.Conv2d(hidden_size*4,hidden_size*8,4,2,1),\n",
    "        )\n",
    "        self.linear=nn.Sequential(\n",
    "            nn.Linear(hidden_size*8*16*16,100),\n",
    "            nn.Tanh(),\n",
    "        )\n",
    "    def forward(self, x):\n",
    "        out = self.model(x.view(x.size(0), 6, img_size, img_size))\n",
    "        out=out.view(x.size()[0],hidden_size*8*16*16)\n",
    "        out=self.linear(out)\n",
    "        out = out.view(-1,100)\n",
    "        return out"
   ]
  },
  {
   "cell_type": "code",
   "execution_count": 28,
   "metadata": {
    "collapsed": true
   },
   "outputs": [],
   "source": [
    "data=next(iter(G_loader))"
   ]
  },
  {
   "cell_type": "code",
   "execution_count": 29,
   "metadata": {
    "collapsed": true
   },
   "outputs": [],
   "source": [
    "G= Generator()"
   ]
  },
  {
   "cell_type": "code",
   "execution_count": 30,
   "metadata": {},
   "outputs": [
    {
     "name": "stdout",
     "output_type": "stream",
     "text": [
      "torch.Size([10, 3, 256, 256])\n",
      "torch.Size([10, 3, 256, 256])\n"
     ]
    }
   ],
   "source": [
    "A,B=data\n",
    "A=Variable(A)\n",
    "B=Variable(B)\n",
    "fake_B=G(A)"
   ]
  },
  {
   "cell_type": "code",
   "execution_count": 31,
   "metadata": {
    "collapsed": true
   },
   "outputs": [],
   "source": [
    "D = Discriminator()"
   ]
  },
  {
   "cell_type": "code",
   "execution_count": 32,
   "metadata": {
    "collapsed": true
   },
   "outputs": [],
   "source": [
    "real_AB=torch.cat((A,B),1)"
   ]
  },
  {
   "cell_type": "code",
   "execution_count": 33,
   "metadata": {},
   "outputs": [
    {
     "data": {
      "text/plain": [
       "torch.Size([10, 6, 256, 256])"
      ]
     },
     "execution_count": 33,
     "metadata": {},
     "output_type": "execute_result"
    }
   ],
   "source": [
    "real_AB.size()"
   ]
  },
  {
   "cell_type": "code",
   "execution_count": 34,
   "metadata": {
    "collapsed": true
   },
   "outputs": [],
   "source": [
    "y=D(real_AB)"
   ]
  },
  {
   "cell_type": "code",
   "execution_count": 35,
   "metadata": {},
   "outputs": [
    {
     "data": {
      "text/plain": [
       "torch.Size([10, 100])"
      ]
     },
     "execution_count": 35,
     "metadata": {},
     "output_type": "execute_result"
    }
   ],
   "source": [
    "y.size()"
   ]
  },
  {
   "cell_type": "code",
   "execution_count": 38,
   "metadata": {
    "scrolled": false
   },
   "outputs": [
    {
     "name": "stdout",
     "output_type": "stream",
     "text": [
      "initialization method [normal]\n"
     ]
    },
    {
     "name": "stderr",
     "output_type": "stream",
     "text": [
      "  0%|          | 0/10000 [00:00<?, ?it/s]/Users/sunxiaofei/anaconda3/lib/python3.6/site-packages/torch/autograd/_functions/basic_ops.py:17: UserWarning: self and other not broadcastable, but have the same number of elements.  Falling back to deprecated pointwise behavior.\n",
      "  return a.add(b)\n",
      "\n"
     ]
    },
    {
     "ename": "RuntimeError",
     "evalue": "inconsistent tensor size, expected r_ [100], t [100] and src [10] to have the same number of elements, but got 100, 100 and 10 elements respectively at /Users/soumith/miniconda2/conda-bld/pytorch_1503975723910/work/torch/lib/TH/generic/THTensorMath.c:887",
     "output_type": "error",
     "traceback": [
      "\u001b[0;31m---------------------------------------------------------------------------\u001b[0m",
      "\u001b[0;31mRuntimeError\u001b[0m                              Traceback (most recent call last)",
      "\u001b[0;32m<ipython-input-38-cf62ba1ba124>\u001b[0m in \u001b[0;36m<module>\u001b[0;34m()\u001b[0m\n\u001b[1;32m     36\u001b[0m         \u001b[0my\u001b[0m \u001b[0;34m=\u001b[0m \u001b[0mD\u001b[0m\u001b[0;34m(\u001b[0m\u001b[0mreal_AB\u001b[0m\u001b[0;34m)\u001b[0m\u001b[0;34m\u001b[0m\u001b[0m\n\u001b[1;32m     37\u001b[0m         \u001b[0mx\u001b[0m \u001b[0;34m=\u001b[0m \u001b[0mD\u001b[0m\u001b[0;34m(\u001b[0m\u001b[0mfake_AB\u001b[0m\u001b[0;34m)\u001b[0m\u001b[0;34m\u001b[0m\u001b[0m\n\u001b[0;32m---> 38\u001b[0;31m         \u001b[0mW_xy\u001b[0m\u001b[0;34m=\u001b[0m\u001b[0msinkhorn_loss\u001b[0m\u001b[0;34m(\u001b[0m\u001b[0mx\u001b[0m\u001b[0;34m,\u001b[0m\u001b[0my\u001b[0m\u001b[0;34m,\u001b[0m\u001b[0mepsilon\u001b[0m\u001b[0;34m,\u001b[0m\u001b[0;36m100\u001b[0m\u001b[0;34m,\u001b[0m\u001b[0mniter\u001b[0m\u001b[0;34m)\u001b[0m\u001b[0;34m\u001b[0m\u001b[0m\n\u001b[0m\u001b[1;32m     39\u001b[0m         \u001b[0mW_xx\u001b[0m\u001b[0;34m=\u001b[0m\u001b[0msinkhorn_loss\u001b[0m\u001b[0;34m(\u001b[0m\u001b[0mx\u001b[0m\u001b[0;34m,\u001b[0m\u001b[0mx\u001b[0m\u001b[0;34m,\u001b[0m\u001b[0mepsilon\u001b[0m\u001b[0;34m,\u001b[0m\u001b[0;36m100\u001b[0m\u001b[0;34m,\u001b[0m\u001b[0mniter\u001b[0m\u001b[0;34m)\u001b[0m\u001b[0;34m\u001b[0m\u001b[0m\n\u001b[1;32m     40\u001b[0m         \u001b[0mW_yy\u001b[0m\u001b[0;34m=\u001b[0m\u001b[0msinkhorn_loss\u001b[0m\u001b[0;34m(\u001b[0m\u001b[0my\u001b[0m\u001b[0;34m,\u001b[0m\u001b[0my\u001b[0m\u001b[0;34m,\u001b[0m\u001b[0mepsilon\u001b[0m\u001b[0;34m,\u001b[0m\u001b[0;36m100\u001b[0m\u001b[0;34m,\u001b[0m\u001b[0mniter\u001b[0m\u001b[0;34m)\u001b[0m\u001b[0;34m\u001b[0m\u001b[0m\n",
      "\u001b[0;32m<ipython-input-2-c0997043acae>\u001b[0m in \u001b[0;36msinkhorn_loss\u001b[0;34m(x, y, epsilon, n, niter)\u001b[0m\n\u001b[1;32m     47\u001b[0m     \u001b[0;32mfor\u001b[0m \u001b[0mi\u001b[0m \u001b[0;32min\u001b[0m \u001b[0mrange\u001b[0m\u001b[0;34m(\u001b[0m\u001b[0mniter\u001b[0m\u001b[0;34m)\u001b[0m\u001b[0;34m:\u001b[0m\u001b[0;34m\u001b[0m\u001b[0m\n\u001b[1;32m     48\u001b[0m         \u001b[0mu1\u001b[0m \u001b[0;34m=\u001b[0m \u001b[0mu\u001b[0m  \u001b[0;31m# useful to check the update\u001b[0m\u001b[0;34m\u001b[0m\u001b[0m\n\u001b[0;32m---> 49\u001b[0;31m         \u001b[0mu\u001b[0m \u001b[0;34m=\u001b[0m \u001b[0mepsilon\u001b[0m \u001b[0;34m*\u001b[0m \u001b[0;34m(\u001b[0m\u001b[0mtorch\u001b[0m\u001b[0;34m.\u001b[0m\u001b[0mlog\u001b[0m\u001b[0;34m(\u001b[0m\u001b[0mmu\u001b[0m\u001b[0;34m)\u001b[0m \u001b[0;34m-\u001b[0m \u001b[0mlse\u001b[0m\u001b[0;34m(\u001b[0m\u001b[0mM\u001b[0m\u001b[0;34m(\u001b[0m\u001b[0mu\u001b[0m\u001b[0;34m,\u001b[0m \u001b[0mv\u001b[0m\u001b[0;34m)\u001b[0m\u001b[0;34m)\u001b[0m\u001b[0;34m.\u001b[0m\u001b[0msqueeze\u001b[0m\u001b[0;34m(\u001b[0m\u001b[0;34m)\u001b[0m\u001b[0;34m)\u001b[0m \u001b[0;34m+\u001b[0m \u001b[0mu\u001b[0m\u001b[0;34m\u001b[0m\u001b[0m\n\u001b[0m\u001b[1;32m     50\u001b[0m         \u001b[0mv\u001b[0m \u001b[0;34m=\u001b[0m \u001b[0mepsilon\u001b[0m \u001b[0;34m*\u001b[0m \u001b[0;34m(\u001b[0m\u001b[0mtorch\u001b[0m\u001b[0;34m.\u001b[0m\u001b[0mlog\u001b[0m\u001b[0;34m(\u001b[0m\u001b[0mnu\u001b[0m\u001b[0;34m)\u001b[0m \u001b[0;34m-\u001b[0m \u001b[0mlse\u001b[0m\u001b[0;34m(\u001b[0m\u001b[0mM\u001b[0m\u001b[0;34m(\u001b[0m\u001b[0mu\u001b[0m\u001b[0;34m,\u001b[0m \u001b[0mv\u001b[0m\u001b[0;34m)\u001b[0m\u001b[0;34m.\u001b[0m\u001b[0mt\u001b[0m\u001b[0;34m(\u001b[0m\u001b[0;34m)\u001b[0m\u001b[0;34m)\u001b[0m\u001b[0;34m.\u001b[0m\u001b[0msqueeze\u001b[0m\u001b[0;34m(\u001b[0m\u001b[0;34m)\u001b[0m\u001b[0;34m)\u001b[0m \u001b[0;34m+\u001b[0m \u001b[0mv\u001b[0m\u001b[0;34m\u001b[0m\u001b[0m\n\u001b[1;32m     51\u001b[0m         \u001b[0;31m# accelerated unbalanced iterations\u001b[0m\u001b[0;34m\u001b[0m\u001b[0;34m\u001b[0m\u001b[0m\n",
      "\u001b[0;32m~/anaconda3/lib/python3.6/site-packages/torch/autograd/variable.py\u001b[0m in \u001b[0;36m__sub__\u001b[0;34m(self, other)\u001b[0m\n\u001b[1;32m    818\u001b[0m \u001b[0;34m\u001b[0m\u001b[0m\n\u001b[1;32m    819\u001b[0m     \u001b[0;32mdef\u001b[0m \u001b[0m__sub__\u001b[0m\u001b[0;34m(\u001b[0m\u001b[0mself\u001b[0m\u001b[0;34m,\u001b[0m \u001b[0mother\u001b[0m\u001b[0;34m)\u001b[0m\u001b[0;34m:\u001b[0m\u001b[0;34m\u001b[0m\u001b[0m\n\u001b[0;32m--> 820\u001b[0;31m         \u001b[0;32mreturn\u001b[0m \u001b[0mself\u001b[0m\u001b[0;34m.\u001b[0m\u001b[0msub\u001b[0m\u001b[0;34m(\u001b[0m\u001b[0mother\u001b[0m\u001b[0;34m)\u001b[0m\u001b[0;34m\u001b[0m\u001b[0m\n\u001b[0m\u001b[1;32m    821\u001b[0m \u001b[0;34m\u001b[0m\u001b[0m\n\u001b[1;32m    822\u001b[0m     \u001b[0;32mdef\u001b[0m \u001b[0m__isub__\u001b[0m\u001b[0;34m(\u001b[0m\u001b[0mself\u001b[0m\u001b[0;34m,\u001b[0m \u001b[0mother\u001b[0m\u001b[0;34m)\u001b[0m\u001b[0;34m:\u001b[0m\u001b[0;34m\u001b[0m\u001b[0m\n",
      "\u001b[0;32m~/anaconda3/lib/python3.6/site-packages/torch/autograd/variable.py\u001b[0m in \u001b[0;36msub\u001b[0;34m(self, other)\u001b[0m\n\u001b[1;32m    330\u001b[0m \u001b[0;34m\u001b[0m\u001b[0m\n\u001b[1;32m    331\u001b[0m     \u001b[0;32mdef\u001b[0m \u001b[0msub\u001b[0m\u001b[0;34m(\u001b[0m\u001b[0mself\u001b[0m\u001b[0;34m,\u001b[0m \u001b[0mother\u001b[0m\u001b[0;34m)\u001b[0m\u001b[0;34m:\u001b[0m\u001b[0;34m\u001b[0m\u001b[0m\n\u001b[0;32m--> 332\u001b[0;31m         \u001b[0;32mreturn\u001b[0m \u001b[0mself\u001b[0m\u001b[0;34m.\u001b[0m\u001b[0m_sub\u001b[0m\u001b[0;34m(\u001b[0m\u001b[0mother\u001b[0m\u001b[0;34m,\u001b[0m \u001b[0;32mFalse\u001b[0m\u001b[0;34m)\u001b[0m\u001b[0;34m\u001b[0m\u001b[0m\n\u001b[0m\u001b[1;32m    333\u001b[0m \u001b[0;34m\u001b[0m\u001b[0m\n\u001b[1;32m    334\u001b[0m     \u001b[0;32mdef\u001b[0m \u001b[0msub_\u001b[0m\u001b[0;34m(\u001b[0m\u001b[0mself\u001b[0m\u001b[0;34m,\u001b[0m \u001b[0mother\u001b[0m\u001b[0;34m)\u001b[0m\u001b[0;34m:\u001b[0m\u001b[0;34m\u001b[0m\u001b[0m\n",
      "\u001b[0;32m~/anaconda3/lib/python3.6/site-packages/torch/autograd/variable.py\u001b[0m in \u001b[0;36m_sub\u001b[0;34m(self, other, inplace)\u001b[0m\n\u001b[1;32m    324\u001b[0m     \u001b[0;32mdef\u001b[0m \u001b[0m_sub\u001b[0m\u001b[0;34m(\u001b[0m\u001b[0mself\u001b[0m\u001b[0;34m,\u001b[0m \u001b[0mother\u001b[0m\u001b[0;34m,\u001b[0m \u001b[0minplace\u001b[0m\u001b[0;34m)\u001b[0m\u001b[0;34m:\u001b[0m\u001b[0;34m\u001b[0m\u001b[0m\n\u001b[1;32m    325\u001b[0m         \u001b[0;32mif\u001b[0m \u001b[0misinstance\u001b[0m\u001b[0;34m(\u001b[0m\u001b[0mother\u001b[0m\u001b[0;34m,\u001b[0m \u001b[0mVariable\u001b[0m\u001b[0;34m)\u001b[0m\u001b[0;34m:\u001b[0m\u001b[0;34m\u001b[0m\u001b[0m\n\u001b[0;32m--> 326\u001b[0;31m             \u001b[0;32mreturn\u001b[0m \u001b[0mSub\u001b[0m\u001b[0;34m.\u001b[0m\u001b[0mapply\u001b[0m\u001b[0;34m(\u001b[0m\u001b[0mself\u001b[0m\u001b[0;34m,\u001b[0m \u001b[0mother\u001b[0m\u001b[0;34m,\u001b[0m \u001b[0minplace\u001b[0m\u001b[0;34m)\u001b[0m\u001b[0;34m\u001b[0m\u001b[0m\n\u001b[0m\u001b[1;32m    327\u001b[0m         \u001b[0;32melse\u001b[0m\u001b[0;34m:\u001b[0m\u001b[0;34m\u001b[0m\u001b[0m\n\u001b[1;32m    328\u001b[0m             \u001b[0;32massert\u001b[0m \u001b[0;32mnot\u001b[0m \u001b[0mtorch\u001b[0m\u001b[0;34m.\u001b[0m\u001b[0mis_tensor\u001b[0m\u001b[0;34m(\u001b[0m\u001b[0mother\u001b[0m\u001b[0;34m)\u001b[0m\u001b[0;34m\u001b[0m\u001b[0m\n",
      "\u001b[0;32m~/anaconda3/lib/python3.6/site-packages/torch/autograd/_functions/basic_ops.py\u001b[0m in \u001b[0;36mforward\u001b[0;34m(ctx, a, b, inplace)\u001b[0m\n\u001b[1;32m     32\u001b[0m             \u001b[0;32mreturn\u001b[0m \u001b[0ma\u001b[0m\u001b[0;34m.\u001b[0m\u001b[0msub_\u001b[0m\u001b[0;34m(\u001b[0m\u001b[0mb\u001b[0m\u001b[0;34m)\u001b[0m\u001b[0;34m\u001b[0m\u001b[0m\n\u001b[1;32m     33\u001b[0m         \u001b[0;32melse\u001b[0m\u001b[0;34m:\u001b[0m\u001b[0;34m\u001b[0m\u001b[0m\n\u001b[0;32m---> 34\u001b[0;31m             \u001b[0;32mreturn\u001b[0m \u001b[0ma\u001b[0m\u001b[0;34m.\u001b[0m\u001b[0msub\u001b[0m\u001b[0;34m(\u001b[0m\u001b[0mb\u001b[0m\u001b[0;34m)\u001b[0m\u001b[0;34m\u001b[0m\u001b[0m\n\u001b[0m\u001b[1;32m     35\u001b[0m \u001b[0;34m\u001b[0m\u001b[0m\n\u001b[1;32m     36\u001b[0m     \u001b[0;34m@\u001b[0m\u001b[0mstaticmethod\u001b[0m\u001b[0;34m\u001b[0m\u001b[0m\n",
      "\u001b[0;31mRuntimeError\u001b[0m: inconsistent tensor size, expected r_ [100], t [100] and src [10] to have the same number of elements, but got 100, 100 and 10 elements respectively at /Users/soumith/miniconda2/conda-bld/pytorch_1503975723910/work/torch/lib/TH/generic/THTensorMath.c:887"
     ]
    }
   ],
   "source": [
    "from tqdm import tqdm\n",
    "G= UnetGenerator(3, 3, 8)\n",
    "init_weights(G)\n",
    "D = Discriminator()\n",
    "# D=NLayerDiscriminator(input_nc=3)\n",
    "# print(G)\n",
    "if use_cuda:\n",
    "    G.cuda()\n",
    "    D.cuda()\n",
    "optimizers = {\n",
    "    'D': torch.optim.RMSprop(D.parameters(), lr=D_lr),\n",
    "    'G': torch.optim.RMSprop(G.parameters(), lr=G_lr)\n",
    "}\n",
    "criterion = nn.BCELoss()\n",
    "errs=[]\n",
    "for epoch in tqdm(range(10000)):\n",
    "    for p in D.parameters():\n",
    "        p.requires_grad = True\n",
    "    for p in G.parameters():\n",
    "        p.requires_grad = False\n",
    "    if epoch<25 or epoch%100==0:\n",
    "        iter_D=1\n",
    "    else:\n",
    "        iter_D=1\n",
    "    for _ in range(iter_D):\n",
    "        optimizers['D'].zero_grad()\n",
    "        A,B=next(iter(D_loader))\n",
    "        if use_cuda:\n",
    "            A=A.cuda()\n",
    "            B=B.cuda()\n",
    "        A=Variable(A)\n",
    "        B=Variable(B)\n",
    "        fake_data = G(A)\n",
    "        real_AB=torch.cat((A,B),3)\n",
    "        fake_AB=torch.cat((A,fake_data),3)\n",
    "        y = D(real_AB)\n",
    "        x = D(fake_AB)\n",
    "        W_xy=sinkhorn_loss(x,y,epsilon,100,niter)\n",
    "        W_xx=sinkhorn_loss(x,x,epsilon,100,niter)\n",
    "        W_yy=sinkhorn_loss(y,y,epsilon,100,niter)\n",
    "        Loss_D=2*W_xy-W_xx-W_yy\n",
    "        Loss_D.backward(mone)\n",
    "        optimizers['D'].step()\n",
    "        for p in D.parameters():\n",
    "            p.data.clamp_(-0.01, 0.01)\n",
    "        \n",
    "    for p in D.parameters():\n",
    "        p.requires_grad = False    \n",
    "    for p in G.parameters():\n",
    "        p.requires_grad = True\n",
    "    optimizers['G'].zero_grad()\n",
    "    A,B=next(iter(G_loader))\n",
    "    if use_cuda:\n",
    "        A=A.cuda()\n",
    "        B=B.cuda()\n",
    "    A=Variable(A)\n",
    "    B=Variable(B)\n",
    "    fake_data = G(A)\n",
    "    real_AB=torch.cat((A,B),3)\n",
    "    fake_AB=torch.cat((A,fake_data),3)\n",
    "    y = D(real_AB)\n",
    "    x = D(fake_AB)\n",
    "    W_xy=sinkhorn_loss(x,y,epsilon,100,niter)\n",
    "    W_xx=sinkhorn_loss(x,x,epsilon,100,niter)\n",
    "    W_yy=sinkhorn_loss(y,y,epsilon,100,niter)\n",
    "    Loss_G=2*W_xy-W_xx-W_yy\n",
    "    Loss_G.backward(one)\n",
    "    if use_cuda:\n",
    "        errs.append(Loss_G.cpu().data[0])\n",
    "    else:\n",
    "        errs.append(Loss_G.data[0])\n",
    "    optimizers['G'].step()\n",
    "\n",
    "    if epoch % 1 == 0:\n",
    "        to_show=torch.cat((fake_AB,B),3)\n",
    "        if use_cuda:\n",
    "            dd = utils.make_grid(to_show.cpu().data[:10], nrow=1)\n",
    "        else:\n",
    "            dd = utils.make_grid(to_show.data[:10],nrow=1)\n",
    "        dd = dd.mul(0.5).add(0.5)\n",
    "        vutils.save_image(dd, './results/Vuil_Sinkhorn_DC_%d.png'%(epoch))\n",
    "        imshow(dd,'./results/Sinkhorn_DC_%d.png'%(epoch))\n",
    "        plt.plot(errs)\n",
    "        plt.savefig('./results/Sinkhorn_DC_loss.png')"
   ]
  },
  {
   "cell_type": "code",
   "execution_count": null,
   "metadata": {
    "collapsed": true
   },
   "outputs": [],
   "source": []
  }
 ],
 "metadata": {
  "kernelspec": {
   "display_name": "Python 3",
   "language": "python",
   "name": "python3"
  },
  "language_info": {
   "codemirror_mode": {
    "name": "ipython",
    "version": 3
   },
   "file_extension": ".py",
   "mimetype": "text/x-python",
   "name": "python",
   "nbconvert_exporter": "python",
   "pygments_lexer": "ipython3",
   "version": "3.6.2"
  }
 },
 "nbformat": 4,
 "nbformat_minor": 2
}
